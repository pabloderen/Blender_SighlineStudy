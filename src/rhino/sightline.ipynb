{
 "cells": [
  {
   "cell_type": "markdown",
   "metadata": {},
   "source": [
    "# Collision analysis\n",
    "This document tries to explain the processes of \"outsourcing\" the calculations of sightline studies without sharing the 3D model information"
   ]
  },
  {
   "cell_type": "markdown",
   "metadata": {},
   "source": [
    "## Description of the process"
   ]
  },
  {
   "cell_type": "markdown",
   "metadata": {},
   "source": [
    "Importing libraries"
   ]
  },
  {
   "cell_type": "code",
   "execution_count": 1,
   "metadata": {},
   "outputs": [],
   "source": [
    "import pandas as pd\n",
    "import numpy as np\n",
    "import itertools\n",
    "import numba\n",
    "import os\n",
    "import time\n",
    "import multiprocessing as mp\n",
    "from multiprocessing import Pool\n",
    "from functools import partial\n",
    "\n",
    "import os\n",
    "os.environ[\"OMP_NUM_THREADS\"] = \"10\"\n",
    "os.environ[\"OPENBLAS_MAIN_FREE\"] = \"10\""
   ]
  },
  {
   "cell_type": "markdown",
   "metadata": {},
   "source": [
    "Loger for python console "
   ]
  },
  {
   "cell_type": "code",
   "execution_count": 2,
   "metadata": {},
   "outputs": [],
   "source": [
    "def log(message):\n",
    "    print('{} , {}'.format(time.time(), message))"
   ]
  },
  {
   "cell_type": "markdown",
   "metadata": {},
   "source": [
    "## Reading points of view"
   ]
  },
  {
   "cell_type": "code",
   "execution_count": 3,
   "metadata": {},
   "outputs": [
    {
     "name": "stdout",
     "output_type": "stream",
     "text": [
      "12 Points of View\n"
     ]
    },
    {
     "data": {
      "text/html": [
       "<div>\n",
       "<style scoped>\n",
       "    .dataframe tbody tr th:only-of-type {\n",
       "        vertical-align: middle;\n",
       "    }\n",
       "\n",
       "    .dataframe tbody tr th {\n",
       "        vertical-align: top;\n",
       "    }\n",
       "\n",
       "    .dataframe thead th {\n",
       "        text-align: right;\n",
       "    }\n",
       "</style>\n",
       "<table border=\"1\" class=\"dataframe\">\n",
       "  <thead>\n",
       "    <tr style=\"text-align: right;\">\n",
       "      <th></th>\n",
       "      <th>x</th>\n",
       "      <th>y</th>\n",
       "      <th>z</th>\n",
       "    </tr>\n",
       "  </thead>\n",
       "  <tbody>\n",
       "    <tr>\n",
       "      <th>0</th>\n",
       "      <td>51.433256</td>\n",
       "      <td>-14.302818</td>\n",
       "      <td>1.322324</td>\n",
       "    </tr>\n",
       "    <tr>\n",
       "      <th>1</th>\n",
       "      <td>90.485795</td>\n",
       "      <td>-15.638943</td>\n",
       "      <td>1.322324</td>\n",
       "    </tr>\n",
       "    <tr>\n",
       "      <th>2</th>\n",
       "      <td>103.959348</td>\n",
       "      <td>-14.302818</td>\n",
       "      <td>1.322324</td>\n",
       "    </tr>\n",
       "    <tr>\n",
       "      <th>3</th>\n",
       "      <td>37.959702</td>\n",
       "      <td>-15.638943</td>\n",
       "      <td>1.322324</td>\n",
       "    </tr>\n",
       "    <tr>\n",
       "      <th>4</th>\n",
       "      <td>-11.158635</td>\n",
       "      <td>-15.638943</td>\n",
       "      <td>1.322324</td>\n",
       "    </tr>\n",
       "    <tr>\n",
       "      <th>5</th>\n",
       "      <td>2.314918</td>\n",
       "      <td>-14.302818</td>\n",
       "      <td>1.322324</td>\n",
       "    </tr>\n",
       "    <tr>\n",
       "      <th>6</th>\n",
       "      <td>51.433256</td>\n",
       "      <td>-14.302818</td>\n",
       "      <td>1.322324</td>\n",
       "    </tr>\n",
       "    <tr>\n",
       "      <th>7</th>\n",
       "      <td>90.485795</td>\n",
       "      <td>-15.638943</td>\n",
       "      <td>1.322324</td>\n",
       "    </tr>\n",
       "    <tr>\n",
       "      <th>8</th>\n",
       "      <td>103.959348</td>\n",
       "      <td>-14.302818</td>\n",
       "      <td>1.322324</td>\n",
       "    </tr>\n",
       "    <tr>\n",
       "      <th>9</th>\n",
       "      <td>37.959702</td>\n",
       "      <td>-15.638943</td>\n",
       "      <td>1.322324</td>\n",
       "    </tr>\n",
       "  </tbody>\n",
       "</table>\n",
       "</div>"
      ],
      "text/plain": [
       "            x          y         z\n",
       "0   51.433256 -14.302818  1.322324\n",
       "1   90.485795 -15.638943  1.322324\n",
       "2  103.959348 -14.302818  1.322324\n",
       "3   37.959702 -15.638943  1.322324\n",
       "4  -11.158635 -15.638943  1.322324\n",
       "5    2.314918 -14.302818  1.322324\n",
       "6   51.433256 -14.302818  1.322324\n",
       "7   90.485795 -15.638943  1.322324\n",
       "8  103.959348 -14.302818  1.322324\n",
       "9   37.959702 -15.638943  1.322324"
      ]
     },
     "execution_count": 3,
     "metadata": {},
     "output_type": "execute_result"
    }
   ],
   "source": [
    "pov_ = pd.read_csv(r\".\\pov_.csv\",header=None )\n",
    "pov_.columns = [\"x\",\"y\",\"z\" ]\n",
    "print('{} Points of View'.format(len(pov_)))\n",
    "pov_.head(10)"
   ]
  },
  {
   "cell_type": "markdown",
   "metadata": {},
   "source": [
    "## Reading targets (points over meshes)"
   ]
  },
  {
   "cell_type": "code",
   "execution_count": 4,
   "metadata": {},
   "outputs": [
    {
     "name": "stdout",
     "output_type": "stream",
     "text": [
      "28800 targets or points of interest\n"
     ]
    },
    {
     "data": {
      "text/html": [
       "<div>\n",
       "<style scoped>\n",
       "    .dataframe tbody tr th:only-of-type {\n",
       "        vertical-align: middle;\n",
       "    }\n",
       "\n",
       "    .dataframe tbody tr th {\n",
       "        vertical-align: top;\n",
       "    }\n",
       "\n",
       "    .dataframe thead th {\n",
       "        text-align: right;\n",
       "    }\n",
       "</style>\n",
       "<table border=\"1\" class=\"dataframe\">\n",
       "  <thead>\n",
       "    <tr style=\"text-align: right;\">\n",
       "      <th></th>\n",
       "      <th>x1</th>\n",
       "      <th>y1</th>\n",
       "      <th>z1</th>\n",
       "    </tr>\n",
       "  </thead>\n",
       "  <tbody>\n",
       "    <tr>\n",
       "      <th>0</th>\n",
       "      <td>44.573727</td>\n",
       "      <td>26.884630</td>\n",
       "      <td>0.000000</td>\n",
       "    </tr>\n",
       "    <tr>\n",
       "      <th>1</th>\n",
       "      <td>44.573727</td>\n",
       "      <td>25.813538</td>\n",
       "      <td>0.000000</td>\n",
       "    </tr>\n",
       "    <tr>\n",
       "      <th>2</th>\n",
       "      <td>44.573727</td>\n",
       "      <td>26.884630</td>\n",
       "      <td>0.514658</td>\n",
       "    </tr>\n",
       "    <tr>\n",
       "      <th>3</th>\n",
       "      <td>44.573727</td>\n",
       "      <td>24.742443</td>\n",
       "      <td>0.000000</td>\n",
       "    </tr>\n",
       "    <tr>\n",
       "      <th>4</th>\n",
       "      <td>44.573727</td>\n",
       "      <td>26.884630</td>\n",
       "      <td>1.543975</td>\n",
       "    </tr>\n",
       "  </tbody>\n",
       "</table>\n",
       "</div>"
      ],
      "text/plain": [
       "          x1         y1        z1\n",
       "0  44.573727  26.884630  0.000000\n",
       "1  44.573727  25.813538  0.000000\n",
       "2  44.573727  26.884630  0.514658\n",
       "3  44.573727  24.742443  0.000000\n",
       "4  44.573727  26.884630  1.543975"
      ]
     },
     "execution_count": 4,
     "metadata": {},
     "output_type": "execute_result"
    }
   ],
   "source": [
    "target_ = pd.read_csv(r\".\\targets_.csv\",header=None )\n",
    "target_.columns = [\"x1\",\"y1\",\"z1\" ]\n",
    "print('{} targets or points of interest'.format(len(target_)))\n",
    "target_.head()"
   ]
  },
  {
   "cell_type": "markdown",
   "metadata": {},
   "source": [
    "## Reading meshes bounding box"
   ]
  },
  {
   "cell_type": "code",
   "execution_count": 5,
   "metadata": {},
   "outputs": [
    {
     "name": "stdout",
     "output_type": "stream",
     "text": [
      "120 meshes in set\n"
     ]
    },
    {
     "data": {
      "text/html": [
       "<div>\n",
       "<style scoped>\n",
       "    .dataframe tbody tr th:only-of-type {\n",
       "        vertical-align: middle;\n",
       "    }\n",
       "\n",
       "    .dataframe tbody tr th {\n",
       "        vertical-align: top;\n",
       "    }\n",
       "\n",
       "    .dataframe thead th {\n",
       "        text-align: right;\n",
       "    }\n",
       "</style>\n",
       "<table border=\"1\" class=\"dataframe\">\n",
       "  <thead>\n",
       "    <tr style=\"text-align: right;\">\n",
       "      <th></th>\n",
       "      <th>xMax</th>\n",
       "      <th>yMax</th>\n",
       "      <th>zMax</th>\n",
       "      <th>xMin</th>\n",
       "      <th>yMin</th>\n",
       "      <th>zMin</th>\n",
       "      <th>id</th>\n",
       "    </tr>\n",
       "    <tr>\n",
       "      <th>0</th>\n",
       "      <th></th>\n",
       "      <th></th>\n",
       "      <th></th>\n",
       "      <th></th>\n",
       "      <th></th>\n",
       "      <th></th>\n",
       "      <th></th>\n",
       "    </tr>\n",
       "  </thead>\n",
       "  <tbody>\n",
       "    <tr>\n",
       "      <th>0</th>\n",
       "      <td>53.2885</td>\n",
       "      <td>10.9502</td>\n",
       "      <td>5.1466</td>\n",
       "      <td>44.5737</td>\n",
       "      <td>0.2393</td>\n",
       "      <td>0.0</td>\n",
       "      <td>7f2e5d7a-85e7-4aaf-8c3c-20758a8f439e</td>\n",
       "    </tr>\n",
       "    <tr>\n",
       "      <th>1</th>\n",
       "      <td>83.2885</td>\n",
       "      <td>10.9502</td>\n",
       "      <td>5.1466</td>\n",
       "      <td>74.5737</td>\n",
       "      <td>0.2393</td>\n",
       "      <td>0.0</td>\n",
       "      <td>0d9b2e4e-7dae-4432-93a1-de599bc947aa</td>\n",
       "    </tr>\n",
       "    <tr>\n",
       "      <th>2</th>\n",
       "      <td>65.9980</td>\n",
       "      <td>10.9502</td>\n",
       "      <td>5.1466</td>\n",
       "      <td>57.2832</td>\n",
       "      <td>0.2393</td>\n",
       "      <td>0.0</td>\n",
       "      <td>a58b6bc3-5dfb-4f8e-bae5-895d927b956b</td>\n",
       "    </tr>\n",
       "    <tr>\n",
       "      <th>3</th>\n",
       "      <td>53.2885</td>\n",
       "      <td>10.9502</td>\n",
       "      <td>5.1466</td>\n",
       "      <td>44.5737</td>\n",
       "      <td>0.2393</td>\n",
       "      <td>0.0</td>\n",
       "      <td>f05d1e0b-5a33-4c1d-a3f9-aaef0d6291b3</td>\n",
       "    </tr>\n",
       "    <tr>\n",
       "      <th>4</th>\n",
       "      <td>95.9980</td>\n",
       "      <td>10.9502</td>\n",
       "      <td>5.1466</td>\n",
       "      <td>87.2832</td>\n",
       "      <td>0.2393</td>\n",
       "      <td>0.0</td>\n",
       "      <td>f5f88bf8-c95a-4b45-a5f2-2665862dde8f</td>\n",
       "    </tr>\n",
       "  </tbody>\n",
       "</table>\n",
       "</div>"
      ],
      "text/plain": [
       "      xMax     yMax    zMax     xMin    yMin  zMin  \\\n",
       "0                                                    \n",
       "0  53.2885  10.9502  5.1466  44.5737  0.2393   0.0   \n",
       "1  83.2885  10.9502  5.1466  74.5737  0.2393   0.0   \n",
       "2  65.9980  10.9502  5.1466  57.2832  0.2393   0.0   \n",
       "3  53.2885  10.9502  5.1466  44.5737  0.2393   0.0   \n",
       "4  95.9980  10.9502  5.1466  87.2832  0.2393   0.0   \n",
       "\n",
       "                                     id  \n",
       "0                                        \n",
       "0  7f2e5d7a-85e7-4aaf-8c3c-20758a8f439e  \n",
       "1  0d9b2e4e-7dae-4432-93a1-de599bc947aa  \n",
       "2  a58b6bc3-5dfb-4f8e-bae5-895d927b956b  \n",
       "3  f05d1e0b-5a33-4c1d-a3f9-aaef0d6291b3  \n",
       "4  f5f88bf8-c95a-4b45-a5f2-2665862dde8f  "
      ]
     },
     "execution_count": 5,
     "metadata": {},
     "output_type": "execute_result"
    }
   ],
   "source": [
    "meshes_ = pd.read_csv(r\".\\context_.csv\",header=None, index_col=0  )\n",
    "meshes_.columns = [\"xMax\",\"yMax\",\"zMax\",\"xMin\",\"yMin\",\"zMin\",\"id\" ]\n",
    "print('{} meshes in set'.format(len(meshes_)))\n",
    "meshes_.head()"
   ]
  },
  {
   "cell_type": "markdown",
   "metadata": {},
   "source": [
    "## Reading meshes faces"
   ]
  },
  {
   "cell_type": "code",
   "execution_count": 6,
   "metadata": {},
   "outputs": [
    {
     "name": "stdout",
     "output_type": "stream",
     "text": [
      "21888 meshes faces in set\n"
     ]
    },
    {
     "data": {
      "text/html": [
       "<div>\n",
       "<style scoped>\n",
       "    .dataframe tbody tr th:only-of-type {\n",
       "        vertical-align: middle;\n",
       "    }\n",
       "\n",
       "    .dataframe tbody tr th {\n",
       "        vertical-align: top;\n",
       "    }\n",
       "\n",
       "    .dataframe thead th {\n",
       "        text-align: right;\n",
       "    }\n",
       "</style>\n",
       "<table border=\"1\" class=\"dataframe\">\n",
       "  <thead>\n",
       "    <tr style=\"text-align: right;\">\n",
       "      <th></th>\n",
       "      <th>xMax</th>\n",
       "      <th>yMax</th>\n",
       "      <th>zMax</th>\n",
       "      <th>xMin</th>\n",
       "      <th>yMin</th>\n",
       "      <th>zMin</th>\n",
       "      <th>id</th>\n",
       "    </tr>\n",
       "  </thead>\n",
       "  <tbody>\n",
       "    <tr>\n",
       "      <th>0</th>\n",
       "      <td>44.5737</td>\n",
       "      <td>125.9106</td>\n",
       "      <td>0.5147</td>\n",
       "      <td>44.5737</td>\n",
       "      <td>124.8395</td>\n",
       "      <td>0.0</td>\n",
       "      <td>a0c92873-dccd-477b-8ab7-41990f14e32b</td>\n",
       "    </tr>\n",
       "    <tr>\n",
       "      <th>1</th>\n",
       "      <td>44.5737</td>\n",
       "      <td>125.9106</td>\n",
       "      <td>1.5440</td>\n",
       "      <td>44.5737</td>\n",
       "      <td>123.7684</td>\n",
       "      <td>0.0</td>\n",
       "      <td>a0c92873-dccd-477b-8ab7-41990f14e32b</td>\n",
       "    </tr>\n",
       "    <tr>\n",
       "      <th>2</th>\n",
       "      <td>44.5737</td>\n",
       "      <td>123.7684</td>\n",
       "      <td>5.1466</td>\n",
       "      <td>44.5737</td>\n",
       "      <td>122.6974</td>\n",
       "      <td>0.0</td>\n",
       "      <td>a0c92873-dccd-477b-8ab7-41990f14e32b</td>\n",
       "    </tr>\n",
       "    <tr>\n",
       "      <th>3</th>\n",
       "      <td>44.5737</td>\n",
       "      <td>122.6974</td>\n",
       "      <td>5.1466</td>\n",
       "      <td>44.5737</td>\n",
       "      <td>121.6263</td>\n",
       "      <td>0.0</td>\n",
       "      <td>a0c92873-dccd-477b-8ab7-41990f14e32b</td>\n",
       "    </tr>\n",
       "    <tr>\n",
       "      <th>4</th>\n",
       "      <td>44.5737</td>\n",
       "      <td>121.6263</td>\n",
       "      <td>5.1466</td>\n",
       "      <td>44.5737</td>\n",
       "      <td>120.5552</td>\n",
       "      <td>0.0</td>\n",
       "      <td>a0c92873-dccd-477b-8ab7-41990f14e32b</td>\n",
       "    </tr>\n",
       "  </tbody>\n",
       "</table>\n",
       "</div>"
      ],
      "text/plain": [
       "      xMax      yMax    zMax     xMin      yMin  zMin  \\\n",
       "0  44.5737  125.9106  0.5147  44.5737  124.8395   0.0   \n",
       "1  44.5737  125.9106  1.5440  44.5737  123.7684   0.0   \n",
       "2  44.5737  123.7684  5.1466  44.5737  122.6974   0.0   \n",
       "3  44.5737  122.6974  5.1466  44.5737  121.6263   0.0   \n",
       "4  44.5737  121.6263  5.1466  44.5737  120.5552   0.0   \n",
       "\n",
       "                                     id  \n",
       "0  a0c92873-dccd-477b-8ab7-41990f14e32b  \n",
       "1  a0c92873-dccd-477b-8ab7-41990f14e32b  \n",
       "2  a0c92873-dccd-477b-8ab7-41990f14e32b  \n",
       "3  a0c92873-dccd-477b-8ab7-41990f14e32b  \n",
       "4  a0c92873-dccd-477b-8ab7-41990f14e32b  "
      ]
     },
     "execution_count": 6,
     "metadata": {},
     "output_type": "execute_result"
    }
   ],
   "source": [
    "mesh_faces = pd.read_csv(r\".\\mesh_faces.csv\",header=None  )\n",
    "mesh_faces.columns = [\"xMax\",\"yMax\",\"zMax\",\"xMin\",\"yMin\",\"zMin\", \"id\" ]\n",
    "print('{} meshes faces in set'.format(len(mesh_faces)))\n",
    "mesh_faces.head()"
   ]
  },
  {
   "cell_type": "markdown",
   "metadata": {},
   "source": [
    "## Creating all cross product of points vs targets to represent the lines of view"
   ]
  },
  {
   "cell_type": "code",
   "execution_count": 7,
   "metadata": {},
   "outputs": [],
   "source": [
    "lines = pov_\n",
    "lines = lines.assign(foo=1).merge(target_.assign(foo=1)).drop('foo', 1)\n",
    "lines = lines.drop_duplicates()\n",
    "lines = lines.reset_index()\n",
    "lines = lines.drop(['index'], axis=1)"
   ]
  },
  {
   "cell_type": "code",
   "execution_count": 8,
   "metadata": {},
   "outputs": [
    {
     "name": "stdout",
     "output_type": "stream",
     "text": [
      "50112 lines between POV and targets\n"
     ]
    },
    {
     "data": {
      "text/html": [
       "<div>\n",
       "<style scoped>\n",
       "    .dataframe tbody tr th:only-of-type {\n",
       "        vertical-align: middle;\n",
       "    }\n",
       "\n",
       "    .dataframe tbody tr th {\n",
       "        vertical-align: top;\n",
       "    }\n",
       "\n",
       "    .dataframe thead th {\n",
       "        text-align: right;\n",
       "    }\n",
       "</style>\n",
       "<table border=\"1\" class=\"dataframe\">\n",
       "  <thead>\n",
       "    <tr style=\"text-align: right;\">\n",
       "      <th></th>\n",
       "      <th>x</th>\n",
       "      <th>y</th>\n",
       "      <th>z</th>\n",
       "      <th>x1</th>\n",
       "      <th>y1</th>\n",
       "      <th>z1</th>\n",
       "    </tr>\n",
       "  </thead>\n",
       "  <tbody>\n",
       "    <tr>\n",
       "      <th>0</th>\n",
       "      <td>51.433256</td>\n",
       "      <td>-14.302818</td>\n",
       "      <td>1.322324</td>\n",
       "      <td>44.573727</td>\n",
       "      <td>26.884630</td>\n",
       "      <td>0.000000</td>\n",
       "    </tr>\n",
       "    <tr>\n",
       "      <th>1</th>\n",
       "      <td>51.433256</td>\n",
       "      <td>-14.302818</td>\n",
       "      <td>1.322324</td>\n",
       "      <td>44.573727</td>\n",
       "      <td>25.813538</td>\n",
       "      <td>0.000000</td>\n",
       "    </tr>\n",
       "    <tr>\n",
       "      <th>2</th>\n",
       "      <td>51.433256</td>\n",
       "      <td>-14.302818</td>\n",
       "      <td>1.322324</td>\n",
       "      <td>44.573727</td>\n",
       "      <td>26.884630</td>\n",
       "      <td>0.514658</td>\n",
       "    </tr>\n",
       "    <tr>\n",
       "      <th>3</th>\n",
       "      <td>51.433256</td>\n",
       "      <td>-14.302818</td>\n",
       "      <td>1.322324</td>\n",
       "      <td>44.573727</td>\n",
       "      <td>24.742443</td>\n",
       "      <td>0.000000</td>\n",
       "    </tr>\n",
       "    <tr>\n",
       "      <th>4</th>\n",
       "      <td>51.433256</td>\n",
       "      <td>-14.302818</td>\n",
       "      <td>1.322324</td>\n",
       "      <td>44.573727</td>\n",
       "      <td>26.884630</td>\n",
       "      <td>1.543975</td>\n",
       "    </tr>\n",
       "  </tbody>\n",
       "</table>\n",
       "</div>"
      ],
      "text/plain": [
       "           x          y         z         x1         y1        z1\n",
       "0  51.433256 -14.302818  1.322324  44.573727  26.884630  0.000000\n",
       "1  51.433256 -14.302818  1.322324  44.573727  25.813538  0.000000\n",
       "2  51.433256 -14.302818  1.322324  44.573727  26.884630  0.514658\n",
       "3  51.433256 -14.302818  1.322324  44.573727  24.742443  0.000000\n",
       "4  51.433256 -14.302818  1.322324  44.573727  26.884630  1.543975"
      ]
     },
     "execution_count": 8,
     "metadata": {},
     "output_type": "execute_result"
    }
   ],
   "source": [
    "print('{} lines between POV and targets'.format(len(lines)))\n",
    "lines.head()"
   ]
  },
  {
   "cell_type": "markdown",
   "metadata": {},
   "source": [
    "## Converting lines to bounding boxes"
   ]
  },
  {
   "cell_type": "code",
   "execution_count": 9,
   "metadata": {},
   "outputs": [
    {
     "data": {
      "text/html": [
       "<div>\n",
       "<style scoped>\n",
       "    .dataframe tbody tr th:only-of-type {\n",
       "        vertical-align: middle;\n",
       "    }\n",
       "\n",
       "    .dataframe tbody tr th {\n",
       "        vertical-align: top;\n",
       "    }\n",
       "\n",
       "    .dataframe thead th {\n",
       "        text-align: right;\n",
       "    }\n",
       "</style>\n",
       "<table border=\"1\" class=\"dataframe\">\n",
       "  <thead>\n",
       "    <tr style=\"text-align: right;\">\n",
       "      <th></th>\n",
       "      <th>xMax</th>\n",
       "      <th>yMax</th>\n",
       "      <th>zMax</th>\n",
       "      <th>xMin</th>\n",
       "      <th>yMin</th>\n",
       "      <th>zMin</th>\n",
       "    </tr>\n",
       "  </thead>\n",
       "  <tbody>\n",
       "    <tr>\n",
       "      <th>0</th>\n",
       "      <td>51.433256</td>\n",
       "      <td>26.884630</td>\n",
       "      <td>1.322324</td>\n",
       "      <td>44.573727</td>\n",
       "      <td>-14.302818</td>\n",
       "      <td>0.000000</td>\n",
       "    </tr>\n",
       "    <tr>\n",
       "      <th>1</th>\n",
       "      <td>51.433256</td>\n",
       "      <td>25.813538</td>\n",
       "      <td>1.322324</td>\n",
       "      <td>44.573727</td>\n",
       "      <td>-14.302818</td>\n",
       "      <td>0.000000</td>\n",
       "    </tr>\n",
       "    <tr>\n",
       "      <th>2</th>\n",
       "      <td>51.433256</td>\n",
       "      <td>26.884630</td>\n",
       "      <td>1.322324</td>\n",
       "      <td>44.573727</td>\n",
       "      <td>-14.302818</td>\n",
       "      <td>0.514658</td>\n",
       "    </tr>\n",
       "    <tr>\n",
       "      <th>3</th>\n",
       "      <td>51.433256</td>\n",
       "      <td>24.742443</td>\n",
       "      <td>1.322324</td>\n",
       "      <td>44.573727</td>\n",
       "      <td>-14.302818</td>\n",
       "      <td>0.000000</td>\n",
       "    </tr>\n",
       "    <tr>\n",
       "      <th>4</th>\n",
       "      <td>51.433256</td>\n",
       "      <td>26.884630</td>\n",
       "      <td>1.543975</td>\n",
       "      <td>44.573727</td>\n",
       "      <td>-14.302818</td>\n",
       "      <td>1.322324</td>\n",
       "    </tr>\n",
       "  </tbody>\n",
       "</table>\n",
       "</div>"
      ],
      "text/plain": [
       "        xMax       yMax      zMax       xMin       yMin      zMin\n",
       "0  51.433256  26.884630  1.322324  44.573727 -14.302818  0.000000\n",
       "1  51.433256  25.813538  1.322324  44.573727 -14.302818  0.000000\n",
       "2  51.433256  26.884630  1.322324  44.573727 -14.302818  0.514658\n",
       "3  51.433256  24.742443  1.322324  44.573727 -14.302818  0.000000\n",
       "4  51.433256  26.884630  1.543975  44.573727 -14.302818  1.322324"
      ]
     },
     "execution_count": 9,
     "metadata": {},
     "output_type": "execute_result"
    }
   ],
   "source": [
    "bbx = pd.DataFrame(columns = [\"xMax\",\"yMax\",\"zMax\",\"xMin\",\"yMin\",\"zMin\"])\n",
    "bbx['xMax'] = lines[['x', 'x1']].values.max(1)\n",
    "bbx['yMax'] = lines[['y', 'y1']].values.max(1)\n",
    "bbx['zMax'] = lines[['z', 'z1']].values.max(1)\n",
    "bbx['xMin'] = lines[['x', 'x1']].values.min(1)\n",
    "bbx['yMin'] = lines[['y', 'y1']].values.min(1)\n",
    "bbx['zMin'] = lines[['z', 'z1']].values.min(1)\n",
    "\n",
    "bbx.head()"
   ]
  },
  {
   "cell_type": "markdown",
   "metadata": {},
   "source": [
    "## Finding if lines bounding box versus meshes bounding box intersect"
   ]
  },
  {
   "cell_type": "markdown",
   "metadata": {},
   "source": [
    "### Estimation of total calculation in meshes versus lines bounding boxes (worst case scenario)"
   ]
  },
  {
   "cell_type": "code",
   "execution_count": 10,
   "metadata": {},
   "outputs": [
    {
     "name": "stdout",
     "output_type": "stream",
     "text": [
      "6013440 possible calculations\n"
     ]
    }
   ],
   "source": [
    "print('{} possible calculations'.format(len(bbx)* len(meshes_)))"
   ]
  },
  {
   "cell_type": "code",
   "execution_count": 11,
   "metadata": {},
   "outputs": [],
   "source": [
    "class BoundingBox():\n",
    "    #Bounding box defined by tuple of max & min points\n",
    "    def __init__(self, point):\n",
    "        self.XMax = point[0]\n",
    "        self.YMax = point[1]\n",
    "        self.ZMax = point[2]\n",
    "        self.XMin = point[3]\n",
    "        self.YMin = point[4]\n",
    "        self.ZMin = point[5]"
   ]
  },
  {
   "cell_type": "code",
   "execution_count": 12,
   "metadata": {},
   "outputs": [],
   "source": [
    "def checkmesh(lines, meshes):\n",
    "    #iterate over points\n",
    "    aa = BoundingBox(meshes)\n",
    "    for b in lines:\n",
    "        bb = BoundingBox(b)\n",
    "        if  bb_intersection_over_union(aa,bb):\n",
    "            return True\n",
    "    return False "
   ]
  },
  {
   "cell_type": "code",
   "execution_count": 13,
   "metadata": {},
   "outputs": [],
   "source": [
    "def bb_intersection_over_union(boxA, boxB):\n",
    "    interArea =  ((boxA.XMax > boxB.XMin) \n",
    "                  and (boxB.XMax > boxA.XMin) \n",
    "                  and (boxA.YMax > boxB.YMin) \n",
    "                  and (boxA.YMin < boxB.YMax) \n",
    "                  and (boxA.ZMax > boxB.ZMin) \n",
    "                  and (boxA.ZMin < boxB.ZMax) )\n",
    "    \n",
    "    return interArea"
   ]
  },
  {
   "cell_type": "code",
   "execution_count": 14,
   "metadata": {},
   "outputs": [
    {
     "name": "stdout",
     "output_type": "stream",
     "text": [
      "Count of meshes with intersections\n",
      "120\n"
     ]
    }
   ],
   "source": [
    "#Saving for possible limit in process like head(1000)\n",
    "bbx2 = bbx #.head(1000)\n",
    "\n",
    "resultA = meshes_.apply(lambda x: checkmesh( bbx2.values, x), axis=1)\n",
    "meshes_['hits'] = resultA\n",
    "print(\"Count of meshes with intersections\")\n",
    "print(len(meshes_[resultA]))"
   ]
  },
  {
   "cell_type": "markdown",
   "metadata": {},
   "source": [
    "## Finding mesh intersection"
   ]
  },
  {
   "cell_type": "markdown",
   "metadata": {},
   "source": [
    "Filtering only the mesh faces that belong to a mesh from previews test"
   ]
  },
  {
   "cell_type": "code",
   "execution_count": 15,
   "metadata": {},
   "outputs": [
    {
     "name": "stdout",
     "output_type": "stream",
     "text": [
      "21888 faces to test\n"
     ]
    }
   ],
   "source": [
    "filter = mesh_faces[\"id\"].isin(meshes_[resultA]['id'])\n",
    "mesh_faces_filter = mesh_faces[filter]\n",
    "print('{} faces to test'.format(len(mesh_faces)))"
   ]
  },
  {
   "cell_type": "code",
   "execution_count": 16,
   "metadata": {},
   "outputs": [],
   "source": [
    "\n",
    "def checkFaces(Faces, line):\n",
    "    #Face v line iterator\n",
    "    for f in Faces:\n",
    "        a = np.array(f[:-1],  dtype=np.float32)\n",
    "        b = np.array(line,  dtype=np.float32)\n",
    "        if intersection(a,b):\n",
    "            return True\n",
    "    return False"
   ]
  },
  {
   "cell_type": "code",
   "execution_count": 17,
   "metadata": {},
   "outputs": [],
   "source": [
    "@numba.jit(['float32(float32,float32,float32)'], forceobj=True, parallel=True)\n",
    "def tt(a,b,c):\n",
    "    return (a - b) / c\n",
    "\n",
    "@numba.jit(['float32(float32,float32,float32)'], forceobj=True, parallel=True)\n",
    "def length(a,b,c):\n",
    "    return (a**2 + b**2 + c**2)\n",
    "\n",
    "@numba.jit(forceobj=True, parallel=True)\n",
    "def normalC(ray):\n",
    "    return [ray[3]-ray[0], ray[4]-ray[1],ray[5]-ray[2]]\n",
    "\n",
    "@numba.jit(forceobj=True, parallel=True)\n",
    "def intersection(aabb, ray):\n",
    "    \n",
    "    #Bounding box v line intersection detector\n",
    "    normal = normalC(ray)\n",
    "    #TODO : check divided by zero!\n",
    "    t1 = tt(aabb[3],ray[0], normal[0])\n",
    "    t2 = tt(aabb[0] , ray[0], normal[0])\n",
    "    t3 = tt(aabb[4] , ray[1], normal[1])\n",
    "    t4 = tt(aabb[1], ray[1], normal[1])\n",
    "    t5 = tt(aabb[5],ray[2], normal[2])\n",
    "    t6 = tt(aabb[2],ray[2], normal[2])\n",
    "    \n",
    "    tmax = min(max(t1, t2), max(t3, t4), max(t5, t6))\n",
    "\n",
    "        # if tmax < 0, ray (line) is intersecting AABB, but whole AABB is behing us\n",
    "    if (tmax < 0):\n",
    "        return False\n",
    "\n",
    "        # if tmin > tmax, ray doesn't intersect AABB\n",
    "    tmin = max(min(t1, t2), min(t3, t4), min(t5, t6))\n",
    "    if (tmin > tmax):\n",
    "        return 0\n",
    "    t= None\n",
    "    if (tmin < float(0)):\n",
    "        t = tmax\n",
    "    else:\n",
    "        t = tmin\n",
    "    if (t * t) > length(normal[0],normal[1],normal[2]):\n",
    "        return 0\n",
    "    return 1"
   ]
  },
  {
   "cell_type": "markdown",
   "metadata": {},
   "source": [
    "Filter lines with positive intersections"
   ]
  },
  {
   "cell_type": "code",
   "execution_count": 18,
   "metadata": {},
   "outputs": [
    {
     "ename": "KeyboardInterrupt",
     "evalue": "",
     "output_type": "error",
     "traceback": [
      "\u001b[1;31m---------------------------------------------------------------------------\u001b[0m",
      "\u001b[1;31mKeyboardInterrupt\u001b[0m                         Traceback (most recent call last)",
      "\u001b[1;32m<ipython-input-18-5e1f6066a287>\u001b[0m in \u001b[0;36m<module>\u001b[1;34m\u001b[0m\n\u001b[0;32m      6\u001b[0m \u001b[1;31m# print('total time {}'.format(end-start))\u001b[0m\u001b[1;33m\u001b[0m\u001b[1;33m\u001b[0m\u001b[1;33m\u001b[0m\u001b[0m\n\u001b[0;32m      7\u001b[0m \u001b[0mstart\u001b[0m\u001b[1;33m=\u001b[0m \u001b[0mtime\u001b[0m\u001b[1;33m.\u001b[0m\u001b[0mtime\u001b[0m\u001b[1;33m(\u001b[0m\u001b[1;33m)\u001b[0m\u001b[1;33m\u001b[0m\u001b[1;33m\u001b[0m\u001b[0m\n\u001b[1;32m----> 8\u001b[1;33m \u001b[0mresultsB\u001b[0m \u001b[1;33m=\u001b[0m \u001b[1;33m[\u001b[0m\u001b[0mcheckFaces\u001b[0m\u001b[1;33m(\u001b[0m \u001b[0mmesh_faces_filter\u001b[0m\u001b[1;33m.\u001b[0m\u001b[0mvalues\u001b[0m\u001b[1;33m,\u001b[0m\u001b[0mx\u001b[0m\u001b[1;33m)\u001b[0m \u001b[1;32mfor\u001b[0m \u001b[0mx\u001b[0m \u001b[1;32min\u001b[0m \u001b[0mlines\u001b[0m\u001b[1;33m.\u001b[0m\u001b[0mvalues\u001b[0m\u001b[1;33m]\u001b[0m\u001b[1;33m\u001b[0m\u001b[1;33m\u001b[0m\u001b[0m\n\u001b[0m\u001b[0;32m      9\u001b[0m \u001b[0mend\u001b[0m \u001b[1;33m=\u001b[0m \u001b[0mtime\u001b[0m\u001b[1;33m.\u001b[0m\u001b[0mtime\u001b[0m\u001b[1;33m(\u001b[0m\u001b[1;33m)\u001b[0m\u001b[1;33m\u001b[0m\u001b[1;33m\u001b[0m\u001b[0m\n\u001b[0;32m     10\u001b[0m \u001b[0mprint\u001b[0m\u001b[1;33m(\u001b[0m\u001b[1;34m'total time {}'\u001b[0m\u001b[1;33m.\u001b[0m\u001b[0mformat\u001b[0m\u001b[1;33m(\u001b[0m\u001b[0mend\u001b[0m\u001b[1;33m-\u001b[0m\u001b[0mstart\u001b[0m\u001b[1;33m)\u001b[0m\u001b[1;33m)\u001b[0m\u001b[1;33m\u001b[0m\u001b[1;33m\u001b[0m\u001b[0m\n",
      "\u001b[1;32m<ipython-input-18-5e1f6066a287>\u001b[0m in \u001b[0;36m<listcomp>\u001b[1;34m(.0)\u001b[0m\n\u001b[0;32m      6\u001b[0m \u001b[1;31m# print('total time {}'.format(end-start))\u001b[0m\u001b[1;33m\u001b[0m\u001b[1;33m\u001b[0m\u001b[1;33m\u001b[0m\u001b[0m\n\u001b[0;32m      7\u001b[0m \u001b[0mstart\u001b[0m\u001b[1;33m=\u001b[0m \u001b[0mtime\u001b[0m\u001b[1;33m.\u001b[0m\u001b[0mtime\u001b[0m\u001b[1;33m(\u001b[0m\u001b[1;33m)\u001b[0m\u001b[1;33m\u001b[0m\u001b[1;33m\u001b[0m\u001b[0m\n\u001b[1;32m----> 8\u001b[1;33m \u001b[0mresultsB\u001b[0m \u001b[1;33m=\u001b[0m \u001b[1;33m[\u001b[0m\u001b[0mcheckFaces\u001b[0m\u001b[1;33m(\u001b[0m \u001b[0mmesh_faces_filter\u001b[0m\u001b[1;33m.\u001b[0m\u001b[0mvalues\u001b[0m\u001b[1;33m,\u001b[0m\u001b[0mx\u001b[0m\u001b[1;33m)\u001b[0m \u001b[1;32mfor\u001b[0m \u001b[0mx\u001b[0m \u001b[1;32min\u001b[0m \u001b[0mlines\u001b[0m\u001b[1;33m.\u001b[0m\u001b[0mvalues\u001b[0m\u001b[1;33m]\u001b[0m\u001b[1;33m\u001b[0m\u001b[1;33m\u001b[0m\u001b[0m\n\u001b[0m\u001b[0;32m      9\u001b[0m \u001b[0mend\u001b[0m \u001b[1;33m=\u001b[0m \u001b[0mtime\u001b[0m\u001b[1;33m.\u001b[0m\u001b[0mtime\u001b[0m\u001b[1;33m(\u001b[0m\u001b[1;33m)\u001b[0m\u001b[1;33m\u001b[0m\u001b[1;33m\u001b[0m\u001b[0m\n\u001b[0;32m     10\u001b[0m \u001b[0mprint\u001b[0m\u001b[1;33m(\u001b[0m\u001b[1;34m'total time {}'\u001b[0m\u001b[1;33m.\u001b[0m\u001b[0mformat\u001b[0m\u001b[1;33m(\u001b[0m\u001b[0mend\u001b[0m\u001b[1;33m-\u001b[0m\u001b[0mstart\u001b[0m\u001b[1;33m)\u001b[0m\u001b[1;33m)\u001b[0m\u001b[1;33m\u001b[0m\u001b[1;33m\u001b[0m\u001b[0m\n",
      "\u001b[1;32m<ipython-input-16-c1a26623223a>\u001b[0m in \u001b[0;36mcheckFaces\u001b[1;34m(Faces, line)\u001b[0m\n\u001b[0;32m      4\u001b[0m     \u001b[1;32mfor\u001b[0m \u001b[0mf\u001b[0m \u001b[1;32min\u001b[0m \u001b[0mFaces\u001b[0m\u001b[1;33m:\u001b[0m\u001b[1;33m\u001b[0m\u001b[1;33m\u001b[0m\u001b[0m\n\u001b[0;32m      5\u001b[0m         \u001b[0ma\u001b[0m \u001b[1;33m=\u001b[0m \u001b[0mnp\u001b[0m\u001b[1;33m.\u001b[0m\u001b[0marray\u001b[0m\u001b[1;33m(\u001b[0m\u001b[0mf\u001b[0m\u001b[1;33m[\u001b[0m\u001b[1;33m:\u001b[0m\u001b[1;33m-\u001b[0m\u001b[1;36m1\u001b[0m\u001b[1;33m]\u001b[0m\u001b[1;33m,\u001b[0m  \u001b[0mdtype\u001b[0m\u001b[1;33m=\u001b[0m\u001b[0mnp\u001b[0m\u001b[1;33m.\u001b[0m\u001b[0mfloat32\u001b[0m\u001b[1;33m)\u001b[0m\u001b[1;33m\u001b[0m\u001b[1;33m\u001b[0m\u001b[0m\n\u001b[1;32m----> 6\u001b[1;33m         \u001b[0mb\u001b[0m \u001b[1;33m=\u001b[0m \u001b[0mnp\u001b[0m\u001b[1;33m.\u001b[0m\u001b[0marray\u001b[0m\u001b[1;33m(\u001b[0m\u001b[0mline\u001b[0m\u001b[1;33m,\u001b[0m  \u001b[0mdtype\u001b[0m\u001b[1;33m=\u001b[0m\u001b[0mnp\u001b[0m\u001b[1;33m.\u001b[0m\u001b[0mfloat32\u001b[0m\u001b[1;33m)\u001b[0m\u001b[1;33m\u001b[0m\u001b[1;33m\u001b[0m\u001b[0m\n\u001b[0m\u001b[0;32m      7\u001b[0m         \u001b[1;32mif\u001b[0m \u001b[0mintersection\u001b[0m\u001b[1;33m(\u001b[0m\u001b[0ma\u001b[0m\u001b[1;33m,\u001b[0m\u001b[0mb\u001b[0m\u001b[1;33m)\u001b[0m\u001b[1;33m:\u001b[0m\u001b[1;33m\u001b[0m\u001b[1;33m\u001b[0m\u001b[0m\n\u001b[0;32m      8\u001b[0m             \u001b[1;32mreturn\u001b[0m \u001b[1;32mTrue\u001b[0m\u001b[1;33m\u001b[0m\u001b[1;33m\u001b[0m\u001b[0m\n",
      "\u001b[1;31mKeyboardInterrupt\u001b[0m: "
     ]
    }
   ],
   "source": [
    "# start= time.time()\n",
    "# pool = Pool(processes=10)\n",
    "# fun = partial(checkFaces,mesh_faces_filter.values)\n",
    "# resultsB = pool.map(fun,lines.values)\n",
    "# end = time.time()\n",
    "# print('total time {}'.format(end-start))\n",
    "start= time.time()\n",
    "resultsB = [checkFaces( mesh_faces_filter.values,x) for x in lines.values]\n",
    "end = time.time()\n",
    "print('total time {}'.format(end-start))"
   ]
  },
  {
   "cell_type": "code",
   "execution_count": null,
   "metadata": {},
   "outputs": [],
   "source": [
    "lines['hits']= resultsB\n",
    "positive = len(lines[lines['hits'] == False])\n",
    "print('{} lines with clean sight from POV to targets'.format(positive))\n",
    "negative = len(lines[lines['hits'] == True])\n",
    "print('{} lines with possible context intersection'.format(negative))"
   ]
  },
  {
   "cell_type": "markdown",
   "metadata": {},
   "source": [
    "## Saving lines with no intersection"
   ]
  },
  {
   "cell_type": "code",
   "execution_count": null,
   "metadata": {},
   "outputs": [],
   "source": [
    "lines[ lines['hits'] == False].to_csv('positive.csv')"
   ]
  },
  {
   "cell_type": "markdown",
   "metadata": {},
   "source": [
    "## Saving lines with possible intersection"
   ]
  },
  {
   "cell_type": "code",
   "execution_count": null,
   "metadata": {},
   "outputs": [],
   "source": [
    "lines[ lines['hits'] == True].to_csv('negative.csv')"
   ]
  },
  {
   "cell_type": "code",
   "execution_count": null,
   "metadata": {},
   "outputs": [],
   "source": [
    "\n",
    "print('total time {}'.format(end-start))"
   ]
  },
  {
   "cell_type": "code",
   "execution_count": null,
   "metadata": {},
   "outputs": [],
   "source": [
    "print(np.show_config())"
   ]
  },
  {
   "cell_type": "code",
   "execution_count": null,
   "metadata": {},
   "outputs": [],
   "source": []
  }
 ],
 "metadata": {
  "kernelspec": {
   "display_name": "Python 3",
   "language": "python",
   "name": "python3"
  },
  "language_info": {
   "codemirror_mode": {
    "name": "ipython",
    "version": 3
   },
   "file_extension": ".py",
   "mimetype": "text/x-python",
   "name": "python",
   "nbconvert_exporter": "python",
   "pygments_lexer": "ipython3",
   "version": "3.7.3"
  }
 },
 "nbformat": 4,
 "nbformat_minor": 2
}
