{
 "cells": [
  {
   "cell_type": "code",
   "execution_count": 242,
   "metadata": {},
   "outputs": [],
   "source": [
    "%matplotlib inline\n",
    "import matplotlib.pyplot as plt\n",
    "import matplotlib.patches as patches\n",
    "from PIL import Image\n",
    "import numpy as np\n",
    "\n"
   ]
  },
  {
   "cell_type": "code",
   "execution_count": 243,
   "metadata": {},
   "outputs": [],
   "source": []
  },
  {
   "cell_type": "code",
   "execution_count": 316,
   "metadata": {},
   "outputs": [],
   "source": [
    "def intersection (aabb, ray):\n",
    "    normal = (ray[3]-ray[0], ray[4]-ray[1],ray[5]-ray[2])\n",
    "    #check divided by zero!\n",
    "    t1 = (aabb[3] - ray[0]) / normal[0];\n",
    "    t2 = (aabb[0] - ray[0]) / normal[0];\n",
    "    t3 = (aabb[4] - ray[1]) / normal[1];\n",
    "    t4 = (aabb[1] - ray[1]) / normal[1];\n",
    "    t5 = (aabb[5]- ray[2]) / normal[2];\n",
    "    t6 = (aabb[2] - ray[2]) / normal[2];\n",
    "\n",
    "    tmin = max(min(t1, t2), min(t3, t4), min(t5, t6));\n",
    "    tmax = min(max(t1, t2), max(t3, t4), max(t5, t6));\n",
    "\n",
    "        # if tmax < 0, ray (line) is intersecting AABB, but whole AABB is behing us\n",
    "    if (tmax < 0):\n",
    "        return False\n",
    "\n",
    "        # if tmin > tmax, ray doesn't intersect AABB\n",
    "    if (tmin > tmax):\n",
    "        return False\n",
    "    t= None\n",
    "    if (tmin < float(0)):\n",
    "        t = tmax\n",
    "    else:\n",
    "        t = tmin\n",
    "    if (t * t) > ((normal[0]**2 + normal[1]**2 + normal[2]**2)):\n",
    "        return False\n",
    "    return True"
   ]
  },
  {
   "cell_type": "code",
   "execution_count": null,
   "metadata": {},
   "outputs": [],
   "source": [
    "\n",
    "\n"
   ]
  },
  {
   "cell_type": "code",
   "execution_count": 323,
   "metadata": {},
   "outputs": [
    {
     "name": "stdout",
     "output_type": "stream",
     "text": [
      "4.0\n",
      "False\n"
     ]
    }
   ],
   "source": [
    "bbx = [2,2,2,4,4,4] # punto Max, punto Min\n",
    "line = [0,0,0,1,1,1] #linea con x0,z0,y0,x1,y1,z1\n",
    "\n",
    "r = i(bbx,line)\n",
    "\n",
    "print(r)"
   ]
  },
  {
   "cell_type": "code",
   "execution_count": 324,
   "metadata": {},
   "outputs": [
    {
     "data": {
      "image/png": "[encoded data removed]",
      "text/plain": [
       "<Figure size 432x288 with 1 Axes>"
      ]
     },
     "metadata": {
      "needs_background": "light"
     },
     "output_type": "display_data"
    }
   ],
   "source": [
    "# Create figure and axes\n",
    "fig,ax = plt.subplots(1)\n",
    "\n",
    "# Create a Rectangle patch\n",
    "rect = patches.Rectangle((bbx[0],bbx[1]),width=bbx[3]-bbx[0], height= bbx[4]-bbx[1])\n",
    "\n",
    "# Add the patch to the Axes\n",
    "ax.add_patch(rect)\n",
    "plt.plot([line[0],line[3]],[line[1],line[4]],'k-')\n",
    "plt.ylim(0,10)\n",
    "plt.xlim(0,10)\n",
    "\n",
    "plt.show()"
   ]
  },
  {
   "cell_type": "code",
   "execution_count": 325,
   "metadata": {},
   "outputs": [
    {
     "data": {
      "image/png": "[encoded data removed]",
      "text/plain": [
       "<Figure size 432x288 with 1 Axes>"
      ]
     },
     "metadata": {
      "needs_background": "light"
     },
     "output_type": "display_data"
    }
   ],
   "source": [
    "# Create figure and axes\n",
    "fig,ax = plt.subplots(1)\n",
    "\n",
    "# Create a Rectangle patch\n",
    "rect = patches.Rectangle((bbx[0],bbx[2]),width=bbx[3]-bbx[0], height= bbx[5]-bbx[2])\n",
    "\n",
    "# Add the patch to the Axes\n",
    "ax.add_patch(rect)\n",
    "plt.plot([line[0],line[3]],[line[2],line[5]],'k-')\n",
    "plt.ylim(0,10)\n",
    "plt.xlim(0,10)\n",
    "\n",
    "plt.show()"
   ]
  },
  {
   "cell_type": "code",
   "execution_count": null,
   "metadata": {},
   "outputs": [],
   "source": []
  }
 ],
 "metadata": {
  "kernelspec": {
   "display_name": "Python 3",
   "language": "python",
   "name": "python3"
  },
  "language_info": {
   "codemirror_mode": {
    "name": "ipython",
    "version": 3
   },
   "file_extension": ".py",
   "mimetype": "text/x-python",
   "name": "python",
   "nbconvert_exporter": "python",
   "pygments_lexer": "ipython3",
   "version": "3.7.3"
  }
 },
 "nbformat": 4,
 "nbformat_minor": 2
}
