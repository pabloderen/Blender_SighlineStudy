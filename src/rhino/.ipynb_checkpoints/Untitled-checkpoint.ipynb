{
 "cells": [
  {
   "cell_type": "code",
   "execution_count": 201,
   "metadata": {},
   "outputs": [],
   "source": [
    "%matplotlib inline\n",
    "import matplotlib.pyplot as plt\n",
    "import matplotlib.patches as patches\n",
    "from PIL import Image\n",
    "import numpy as np\n",
    "\n"
   ]
  },
  {
   "cell_type": "code",
   "execution_count": 231,
   "metadata": {},
   "outputs": [],
   "source": [
    "def lineIntersection(bbx, line):\n",
    "\n",
    "    # ax + by = c\n",
    "    a = line[1] - line[4] \n",
    "    b = line[0] - line[3]  \n",
    "    c = a*(line[0]) + b*(line[1])\n",
    "    # ax + bz = c\n",
    "    aZ = line[2] - line[5] \n",
    "    bZ = line[0] - line[3]  \n",
    "    cZ = a*(line[0]) + b*(line[5])\n",
    "    #Check X on bounding box\n",
    "    #y = (ax + c ) / b\n",
    "    y = (a*bbx[3] + c)/b\n",
    "    x = (a*bbx[4] + c)/b\n",
    "    z = (aZ*bbx[4] + cZ)/bZ\n",
    "    \n",
    "    #if x,y,z are less than min bbx coordinates, false.\n",
    "    if (x > bbx[3] or x > bbx[0]):\n",
    "        return False\n",
    "    if (y > bbx[4] or y > bbx[1] ):\n",
    "        return False\n",
    "    return True"
   ]
  },
  {
   "cell_type": "code",
   "execution_count": 232,
   "metadata": {},
   "outputs": [
    {
     "name": "stdout",
     "output_type": "stream",
     "text": [
      "False\n"
     ]
    }
   ],
   "source": [
    "bbx = [2,2,2,4,4,4] # punto Max, punto Min\n",
    "line = [0,0,0,3,3,6] #linea con x0,z0,y0,x1,y1,z1\n",
    "\n",
    "r = lineIntersection(bbx,line)\n",
    "\n",
    "print(r)"
   ]
  },
  {
   "cell_type": "code",
   "execution_count": 233,
   "metadata": {},
   "outputs": [
    {
     "data": {
      "image/png": "[encoded data removed]",
      "text/plain": [
       "<Figure size 432x288 with 1 Axes>"
      ]
     },
     "metadata": {
      "needs_background": "light"
     },
     "output_type": "display_data"
    }
   ],
   "source": [
    "# Create figure and axes\n",
    "fig,ax = plt.subplots(1)\n",
    "\n",
    "# Create a Rectangle patch\n",
    "rect = patches.Rectangle((bbx[0],bbx[1]),width=bbx[3]-bbx[0], height= bbx[4]-bbx[1])\n",
    "\n",
    "# Add the patch to the Axes\n",
    "ax.add_patch(rect)\n",
    "plt.plot([line[0],line[3]],[line[1],line[4]],'k-')\n",
    "plt.ylim(0,10)\n",
    "plt.xlim(0,10)\n",
    "\n",
    "plt.show()"
   ]
  },
  {
   "cell_type": "code",
   "execution_count": 227,
   "metadata": {},
   "outputs": [
    {
     "data": {
      "image/png": "[encoded data removed]",
      "text/plain": [
       "<Figure size 432x288 with 1 Axes>"
      ]
     },
     "metadata": {
      "needs_background": "light"
     },
     "output_type": "display_data"
    }
   ],
   "source": [
    "# Create figure and axes\n",
    "fig,ax = plt.subplots(1)\n",
    "\n",
    "# Create a Rectangle patch\n",
    "rect = patches.Rectangle((bbx[0],bbx[2]),width=bbx[3]-bbx[0], height= bbx[5]-bbx[2])\n",
    "\n",
    "# Add the patch to the Axes\n",
    "ax.add_patch(rect)\n",
    "plt.plot([line[0],line[3]],[line[2],line[5]],'k-')\n",
    "plt.ylim(0,10)\n",
    "plt.xlim(0,10)\n",
    "\n",
    "plt.show()"
   ]
  },
  {
   "cell_type": "code",
   "execution_count": null,
   "metadata": {},
   "outputs": [],
   "source": []
  }
 ],
 "metadata": {
  "kernelspec": {
   "display_name": "Python 3",
   "language": "python",
   "name": "python3"
  },
  "language_info": {
   "codemirror_mode": {
    "name": "ipython",
    "version": 3
   },
   "file_extension": ".py",
   "mimetype": "text/x-python",
   "name": "python",
   "nbconvert_exporter": "python",
   "pygments_lexer": "ipython3",
   "version": "3.7.3"
  }
 },
 "nbformat": 4,
 "nbformat_minor": 2
}
