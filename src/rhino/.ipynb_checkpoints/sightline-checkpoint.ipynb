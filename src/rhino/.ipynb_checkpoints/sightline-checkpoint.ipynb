{
 "cells": [
  {
   "cell_type": "markdown",
   "metadata": {},
   "source": [
    "# Collision analysis\n",
    "This document tries to explain the processes of \"outsourcing\" the calculations of sightline studies without sharing the 3D model information"
   ]
  },
  {
   "cell_type": "markdown",
   "metadata": {},
   "source": [
    "## Description of the process"
   ]
  },
  {
   "cell_type": "markdown",
   "metadata": {},
   "source": [
    "Importing libraries"
   ]
  },
  {
   "cell_type": "code",
   "execution_count": 1,
   "metadata": {},
   "outputs": [],
   "source": [
    "import pandas as pd\n",
    "import numpy as np\n",
    "import itertools\n",
    "import os\n",
    "import time\n",
    "import multiprocessing as mp\n",
    "from multiprocessing import Pool\n",
    "from functools import partial"
   ]
  },
  {
   "cell_type": "markdown",
   "metadata": {},
   "source": [
    "Loger for python console "
   ]
  },
  {
   "cell_type": "code",
   "execution_count": 2,
   "metadata": {},
   "outputs": [],
   "source": [
    "def log(message):\n",
    "    print('{} , {}'.format(time.time(), message))"
   ]
  },
  {
   "cell_type": "markdown",
   "metadata": {},
   "source": [
    "## Reading points of view"
   ]
  },
  {
   "cell_type": "code",
   "execution_count": 23,
   "metadata": {},
   "outputs": [
    {
     "name": "stdout",
     "output_type": "stream",
     "text": [
      "2 Points of View\n"
     ]
    },
    {
     "data": {
      "text/html": [
       "<div>\n",
       "<style scoped>\n",
       "    .dataframe tbody tr th:only-of-type {\n",
       "        vertical-align: middle;\n",
       "    }\n",
       "\n",
       "    .dataframe tbody tr th {\n",
       "        vertical-align: top;\n",
       "    }\n",
       "\n",
       "    .dataframe thead th {\n",
       "        text-align: right;\n",
       "    }\n",
       "</style>\n",
       "<table border=\"1\" class=\"dataframe\">\n",
       "  <thead>\n",
       "    <tr style=\"text-align: right;\">\n",
       "      <th></th>\n",
       "      <th>x</th>\n",
       "      <th>y</th>\n",
       "      <th>z</th>\n",
       "    </tr>\n",
       "  </thead>\n",
       "  <tbody>\n",
       "    <tr>\n",
       "      <th>0</th>\n",
       "      <td>-11.158635</td>\n",
       "      <td>-15.638943</td>\n",
       "      <td>1.322324</td>\n",
       "    </tr>\n",
       "    <tr>\n",
       "      <th>1</th>\n",
       "      <td>2.314918</td>\n",
       "      <td>-14.302818</td>\n",
       "      <td>1.322324</td>\n",
       "    </tr>\n",
       "  </tbody>\n",
       "</table>\n",
       "</div>"
      ],
      "text/plain": [
       "           x          y         z\n",
       "0 -11.158635 -15.638943  1.322324\n",
       "1   2.314918 -14.302818  1.322324"
      ]
     },
     "execution_count": 23,
     "metadata": {},
     "output_type": "execute_result"
    }
   ],
   "source": [
    "pov_ = pd.read_csv(r\".\\pov_.csv\",header=None )\n",
    "pov_.columns = [\"x\",\"y\",\"z\" ]\n",
    "print('{} Points of View'.format(len(pov_)))\n",
    "pov_.head()"
   ]
  },
  {
   "cell_type": "markdown",
   "metadata": {},
   "source": [
    "## Reading targets (points over meshes)"
   ]
  },
  {
   "cell_type": "code",
   "execution_count": 24,
   "metadata": {},
   "outputs": [
    {
     "name": "stdout",
     "output_type": "stream",
     "text": [
      "480 targets or points of interest\n"
     ]
    },
    {
     "data": {
      "text/html": [
       "<div>\n",
       "<style scoped>\n",
       "    .dataframe tbody tr th:only-of-type {\n",
       "        vertical-align: middle;\n",
       "    }\n",
       "\n",
       "    .dataframe tbody tr th {\n",
       "        vertical-align: top;\n",
       "    }\n",
       "\n",
       "    .dataframe thead th {\n",
       "        text-align: right;\n",
       "    }\n",
       "</style>\n",
       "<table border=\"1\" class=\"dataframe\">\n",
       "  <thead>\n",
       "    <tr style=\"text-align: right;\">\n",
       "      <th></th>\n",
       "      <th>x1</th>\n",
       "      <th>y1</th>\n",
       "      <th>z1</th>\n",
       "    </tr>\n",
       "  </thead>\n",
       "  <tbody>\n",
       "    <tr>\n",
       "      <th>0</th>\n",
       "      <td>27.283216</td>\n",
       "      <td>26.884630</td>\n",
       "      <td>0.000000</td>\n",
       "    </tr>\n",
       "    <tr>\n",
       "      <th>1</th>\n",
       "      <td>27.283216</td>\n",
       "      <td>25.813538</td>\n",
       "      <td>0.000000</td>\n",
       "    </tr>\n",
       "    <tr>\n",
       "      <th>2</th>\n",
       "      <td>27.283216</td>\n",
       "      <td>26.884630</td>\n",
       "      <td>0.514658</td>\n",
       "    </tr>\n",
       "    <tr>\n",
       "      <th>3</th>\n",
       "      <td>27.283216</td>\n",
       "      <td>24.742443</td>\n",
       "      <td>0.000000</td>\n",
       "    </tr>\n",
       "    <tr>\n",
       "      <th>4</th>\n",
       "      <td>27.283216</td>\n",
       "      <td>26.884630</td>\n",
       "      <td>1.543975</td>\n",
       "    </tr>\n",
       "  </tbody>\n",
       "</table>\n",
       "</div>"
      ],
      "text/plain": [
       "          x1         y1        z1\n",
       "0  27.283216  26.884630  0.000000\n",
       "1  27.283216  25.813538  0.000000\n",
       "2  27.283216  26.884630  0.514658\n",
       "3  27.283216  24.742443  0.000000\n",
       "4  27.283216  26.884630  1.543975"
      ]
     },
     "execution_count": 24,
     "metadata": {},
     "output_type": "execute_result"
    }
   ],
   "source": [
    "target_ = pd.read_csv(r\".\\targets_.csv\",header=None )\n",
    "target_.columns = [\"x1\",\"y1\",\"z1\" ]\n",
    "print('{} targets or points of interest'.format(len(target_)))\n",
    "target_.head()"
   ]
  },
  {
   "cell_type": "markdown",
   "metadata": {},
   "source": [
    "## Reading meshes bounding box"
   ]
  },
  {
   "cell_type": "code",
   "execution_count": 5,
   "metadata": {},
   "outputs": [
    {
     "name": "stdout",
     "output_type": "stream",
     "text": [
      "2 meshes in set\n"
     ]
    },
    {
     "data": {
      "text/html": [
       "<div>\n",
       "<style scoped>\n",
       "    .dataframe tbody tr th:only-of-type {\n",
       "        vertical-align: middle;\n",
       "    }\n",
       "\n",
       "    .dataframe tbody tr th {\n",
       "        vertical-align: top;\n",
       "    }\n",
       "\n",
       "    .dataframe thead th {\n",
       "        text-align: right;\n",
       "    }\n",
       "</style>\n",
       "<table border=\"1\" class=\"dataframe\">\n",
       "  <thead>\n",
       "    <tr style=\"text-align: right;\">\n",
       "      <th></th>\n",
       "      <th>xMax</th>\n",
       "      <th>yMax</th>\n",
       "      <th>zMax</th>\n",
       "      <th>xMin</th>\n",
       "      <th>yMin</th>\n",
       "      <th>zMin</th>\n",
       "      <th>id</th>\n",
       "    </tr>\n",
       "    <tr>\n",
       "      <th>0</th>\n",
       "      <th></th>\n",
       "      <th></th>\n",
       "      <th></th>\n",
       "      <th></th>\n",
       "      <th></th>\n",
       "      <th></th>\n",
       "      <th></th>\n",
       "    </tr>\n",
       "  </thead>\n",
       "  <tbody>\n",
       "    <tr>\n",
       "      <th>0</th>\n",
       "      <td>23.2885</td>\n",
       "      <td>10.9502</td>\n",
       "      <td>5.1466</td>\n",
       "      <td>14.5737</td>\n",
       "      <td>0.2393</td>\n",
       "      <td>0.0</td>\n",
       "      <td>4d4f5c7f-5eb9-4b5c-bfe5-1bb59d4c4c93</td>\n",
       "    </tr>\n",
       "    <tr>\n",
       "      <th>1</th>\n",
       "      <td>35.9980</td>\n",
       "      <td>10.9502</td>\n",
       "      <td>5.1466</td>\n",
       "      <td>27.2832</td>\n",
       "      <td>0.2393</td>\n",
       "      <td>0.0</td>\n",
       "      <td>7e2f84e7-c825-46cc-a02c-081450aa7d89</td>\n",
       "    </tr>\n",
       "  </tbody>\n",
       "</table>\n",
       "</div>"
      ],
      "text/plain": [
       "      xMax     yMax    zMax     xMin    yMin  zMin  \\\n",
       "0                                                    \n",
       "0  23.2885  10.9502  5.1466  14.5737  0.2393   0.0   \n",
       "1  35.9980  10.9502  5.1466  27.2832  0.2393   0.0   \n",
       "\n",
       "                                     id  \n",
       "0                                        \n",
       "0  4d4f5c7f-5eb9-4b5c-bfe5-1bb59d4c4c93  \n",
       "1  7e2f84e7-c825-46cc-a02c-081450aa7d89  "
      ]
     },
     "execution_count": 5,
     "metadata": {},
     "output_type": "execute_result"
    }
   ],
   "source": [
    "meshes_ = pd.read_csv(r\".\\context_.csv\",header=None, index_col=0  )\n",
    "meshes_.columns = [\"xMax\",\"yMax\",\"zMax\",\"xMin\",\"yMin\",\"zMin\",\"id\" ]\n",
    "print('{} meshes in set'.format(len(meshes_)))\n",
    "meshes_.head()"
   ]
  },
  {
   "cell_type": "markdown",
   "metadata": {},
   "source": [
    "## Reading meshes faces"
   ]
  },
  {
   "cell_type": "code",
   "execution_count": 6,
   "metadata": {},
   "outputs": [
    {
     "name": "stdout",
     "output_type": "stream",
     "text": [
      "456 meshes faces in set\n"
     ]
    },
    {
     "data": {
      "text/html": [
       "<div>\n",
       "<style scoped>\n",
       "    .dataframe tbody tr th:only-of-type {\n",
       "        vertical-align: middle;\n",
       "    }\n",
       "\n",
       "    .dataframe tbody tr th {\n",
       "        vertical-align: top;\n",
       "    }\n",
       "\n",
       "    .dataframe thead th {\n",
       "        text-align: right;\n",
       "    }\n",
       "</style>\n",
       "<table border=\"1\" class=\"dataframe\">\n",
       "  <thead>\n",
       "    <tr style=\"text-align: right;\">\n",
       "      <th></th>\n",
       "      <th>xMax</th>\n",
       "      <th>yMax</th>\n",
       "      <th>zMax</th>\n",
       "      <th>xMin</th>\n",
       "      <th>yMin</th>\n",
       "      <th>zMin</th>\n",
       "      <th>id</th>\n",
       "    </tr>\n",
       "  </thead>\n",
       "  <tbody>\n",
       "    <tr>\n",
       "      <th>0</th>\n",
       "      <td>14.5737</td>\n",
       "      <td>10.9502</td>\n",
       "      <td>0.5147</td>\n",
       "      <td>14.5737</td>\n",
       "      <td>9.8791</td>\n",
       "      <td>0.0</td>\n",
       "      <td>4d4f5c7f-5eb9-4b5c-bfe5-1bb59d4c4c93</td>\n",
       "    </tr>\n",
       "    <tr>\n",
       "      <th>1</th>\n",
       "      <td>14.5737</td>\n",
       "      <td>10.9502</td>\n",
       "      <td>1.5440</td>\n",
       "      <td>14.5737</td>\n",
       "      <td>8.8080</td>\n",
       "      <td>0.0</td>\n",
       "      <td>4d4f5c7f-5eb9-4b5c-bfe5-1bb59d4c4c93</td>\n",
       "    </tr>\n",
       "    <tr>\n",
       "      <th>2</th>\n",
       "      <td>14.5737</td>\n",
       "      <td>8.8080</td>\n",
       "      <td>5.1466</td>\n",
       "      <td>14.5737</td>\n",
       "      <td>7.7369</td>\n",
       "      <td>0.0</td>\n",
       "      <td>4d4f5c7f-5eb9-4b5c-bfe5-1bb59d4c4c93</td>\n",
       "    </tr>\n",
       "    <tr>\n",
       "      <th>3</th>\n",
       "      <td>14.5737</td>\n",
       "      <td>7.7369</td>\n",
       "      <td>5.1466</td>\n",
       "      <td>14.5737</td>\n",
       "      <td>6.6658</td>\n",
       "      <td>0.0</td>\n",
       "      <td>4d4f5c7f-5eb9-4b5c-bfe5-1bb59d4c4c93</td>\n",
       "    </tr>\n",
       "    <tr>\n",
       "      <th>4</th>\n",
       "      <td>14.5737</td>\n",
       "      <td>6.6658</td>\n",
       "      <td>5.1466</td>\n",
       "      <td>14.5737</td>\n",
       "      <td>5.5947</td>\n",
       "      <td>0.0</td>\n",
       "      <td>4d4f5c7f-5eb9-4b5c-bfe5-1bb59d4c4c93</td>\n",
       "    </tr>\n",
       "  </tbody>\n",
       "</table>\n",
       "</div>"
      ],
      "text/plain": [
       "      xMax     yMax    zMax     xMin    yMin  zMin  \\\n",
       "0  14.5737  10.9502  0.5147  14.5737  9.8791   0.0   \n",
       "1  14.5737  10.9502  1.5440  14.5737  8.8080   0.0   \n",
       "2  14.5737   8.8080  5.1466  14.5737  7.7369   0.0   \n",
       "3  14.5737   7.7369  5.1466  14.5737  6.6658   0.0   \n",
       "4  14.5737   6.6658  5.1466  14.5737  5.5947   0.0   \n",
       "\n",
       "                                     id  \n",
       "0  4d4f5c7f-5eb9-4b5c-bfe5-1bb59d4c4c93  \n",
       "1  4d4f5c7f-5eb9-4b5c-bfe5-1bb59d4c4c93  \n",
       "2  4d4f5c7f-5eb9-4b5c-bfe5-1bb59d4c4c93  \n",
       "3  4d4f5c7f-5eb9-4b5c-bfe5-1bb59d4c4c93  \n",
       "4  4d4f5c7f-5eb9-4b5c-bfe5-1bb59d4c4c93  "
      ]
     },
     "execution_count": 6,
     "metadata": {},
     "output_type": "execute_result"
    }
   ],
   "source": [
    "mesh_faces = pd.read_csv(r\".\\mesh_faces.csv\",header=None  )\n",
    "mesh_faces.columns = [\"xMax\",\"yMax\",\"zMax\",\"xMin\",\"yMin\",\"zMin\", \"id\" ]\n",
    "print('{} meshes faces in set'.format(len(mesh_faces)))\n",
    "mesh_faces.head()"
   ]
  },
  {
   "cell_type": "markdown",
   "metadata": {},
   "source": [
    "## Creating all cross product of points vs targets to represent the lines of view"
   ]
  },
  {
   "cell_type": "code",
   "execution_count": 7,
   "metadata": {},
   "outputs": [],
   "source": [
    "lines = pov_\n",
    "lines = lines.assign(foo=1).merge(target_.assign(foo=1)).drop('foo', 1)\n",
    "lines = lines.drop_duplicates()\n",
    "lines = lines.reset_index()\n",
    "lines = lines.drop(['index'], axis=1)"
   ]
  },
  {
   "cell_type": "code",
   "execution_count": 8,
   "metadata": {},
   "outputs": [
    {
     "name": "stdout",
     "output_type": "stream",
     "text": [
      "464 lines between POV and targets\n"
     ]
    },
    {
     "data": {
      "text/html": [
       "<div>\n",
       "<style scoped>\n",
       "    .dataframe tbody tr th:only-of-type {\n",
       "        vertical-align: middle;\n",
       "    }\n",
       "\n",
       "    .dataframe tbody tr th {\n",
       "        vertical-align: top;\n",
       "    }\n",
       "\n",
       "    .dataframe thead th {\n",
       "        text-align: right;\n",
       "    }\n",
       "</style>\n",
       "<table border=\"1\" class=\"dataframe\">\n",
       "  <thead>\n",
       "    <tr style=\"text-align: right;\">\n",
       "      <th></th>\n",
       "      <th>x</th>\n",
       "      <th>y</th>\n",
       "      <th>z</th>\n",
       "      <th>x1</th>\n",
       "      <th>y1</th>\n",
       "      <th>z1</th>\n",
       "    </tr>\n",
       "  </thead>\n",
       "  <tbody>\n",
       "    <tr>\n",
       "      <th>0</th>\n",
       "      <td>-11.158635</td>\n",
       "      <td>-15.638943</td>\n",
       "      <td>1.322324</td>\n",
       "      <td>27.283216</td>\n",
       "      <td>26.884630</td>\n",
       "      <td>0.000000</td>\n",
       "    </tr>\n",
       "    <tr>\n",
       "      <th>1</th>\n",
       "      <td>-11.158635</td>\n",
       "      <td>-15.638943</td>\n",
       "      <td>1.322324</td>\n",
       "      <td>27.283216</td>\n",
       "      <td>25.813538</td>\n",
       "      <td>0.000000</td>\n",
       "    </tr>\n",
       "    <tr>\n",
       "      <th>2</th>\n",
       "      <td>-11.158635</td>\n",
       "      <td>-15.638943</td>\n",
       "      <td>1.322324</td>\n",
       "      <td>27.283216</td>\n",
       "      <td>26.884630</td>\n",
       "      <td>0.514658</td>\n",
       "    </tr>\n",
       "    <tr>\n",
       "      <th>3</th>\n",
       "      <td>-11.158635</td>\n",
       "      <td>-15.638943</td>\n",
       "      <td>1.322324</td>\n",
       "      <td>27.283216</td>\n",
       "      <td>24.742443</td>\n",
       "      <td>0.000000</td>\n",
       "    </tr>\n",
       "    <tr>\n",
       "      <th>4</th>\n",
       "      <td>-11.158635</td>\n",
       "      <td>-15.638943</td>\n",
       "      <td>1.322324</td>\n",
       "      <td>27.283216</td>\n",
       "      <td>26.884630</td>\n",
       "      <td>1.543975</td>\n",
       "    </tr>\n",
       "  </tbody>\n",
       "</table>\n",
       "</div>"
      ],
      "text/plain": [
       "           x          y         z         x1         y1        z1\n",
       "0 -11.158635 -15.638943  1.322324  27.283216  26.884630  0.000000\n",
       "1 -11.158635 -15.638943  1.322324  27.283216  25.813538  0.000000\n",
       "2 -11.158635 -15.638943  1.322324  27.283216  26.884630  0.514658\n",
       "3 -11.158635 -15.638943  1.322324  27.283216  24.742443  0.000000\n",
       "4 -11.158635 -15.638943  1.322324  27.283216  26.884630  1.543975"
      ]
     },
     "execution_count": 8,
     "metadata": {},
     "output_type": "execute_result"
    }
   ],
   "source": [
    "print('{} lines between POV and targets'.format(len(lines)))\n",
    "lines.head()"
   ]
  },
  {
   "cell_type": "markdown",
   "metadata": {},
   "source": [
    "## Converting lines to bounding boxes"
   ]
  },
  {
   "cell_type": "code",
   "execution_count": 9,
   "metadata": {},
   "outputs": [
    {
     "data": {
      "text/html": [
       "<div>\n",
       "<style scoped>\n",
       "    .dataframe tbody tr th:only-of-type {\n",
       "        vertical-align: middle;\n",
       "    }\n",
       "\n",
       "    .dataframe tbody tr th {\n",
       "        vertical-align: top;\n",
       "    }\n",
       "\n",
       "    .dataframe thead th {\n",
       "        text-align: right;\n",
       "    }\n",
       "</style>\n",
       "<table border=\"1\" class=\"dataframe\">\n",
       "  <thead>\n",
       "    <tr style=\"text-align: right;\">\n",
       "      <th></th>\n",
       "      <th>xMax</th>\n",
       "      <th>yMax</th>\n",
       "      <th>zMax</th>\n",
       "      <th>xMin</th>\n",
       "      <th>yMin</th>\n",
       "      <th>zMin</th>\n",
       "    </tr>\n",
       "  </thead>\n",
       "  <tbody>\n",
       "    <tr>\n",
       "      <th>0</th>\n",
       "      <td>27.283216</td>\n",
       "      <td>26.884630</td>\n",
       "      <td>1.322324</td>\n",
       "      <td>-11.158635</td>\n",
       "      <td>-15.638943</td>\n",
       "      <td>0.000000</td>\n",
       "    </tr>\n",
       "    <tr>\n",
       "      <th>1</th>\n",
       "      <td>27.283216</td>\n",
       "      <td>25.813538</td>\n",
       "      <td>1.322324</td>\n",
       "      <td>-11.158635</td>\n",
       "      <td>-15.638943</td>\n",
       "      <td>0.000000</td>\n",
       "    </tr>\n",
       "    <tr>\n",
       "      <th>2</th>\n",
       "      <td>27.283216</td>\n",
       "      <td>26.884630</td>\n",
       "      <td>1.322324</td>\n",
       "      <td>-11.158635</td>\n",
       "      <td>-15.638943</td>\n",
       "      <td>0.514658</td>\n",
       "    </tr>\n",
       "    <tr>\n",
       "      <th>3</th>\n",
       "      <td>27.283216</td>\n",
       "      <td>24.742443</td>\n",
       "      <td>1.322324</td>\n",
       "      <td>-11.158635</td>\n",
       "      <td>-15.638943</td>\n",
       "      <td>0.000000</td>\n",
       "    </tr>\n",
       "    <tr>\n",
       "      <th>4</th>\n",
       "      <td>27.283216</td>\n",
       "      <td>26.884630</td>\n",
       "      <td>1.543975</td>\n",
       "      <td>-11.158635</td>\n",
       "      <td>-15.638943</td>\n",
       "      <td>1.322324</td>\n",
       "    </tr>\n",
       "  </tbody>\n",
       "</table>\n",
       "</div>"
      ],
      "text/plain": [
       "        xMax       yMax      zMax       xMin       yMin      zMin\n",
       "0  27.283216  26.884630  1.322324 -11.158635 -15.638943  0.000000\n",
       "1  27.283216  25.813538  1.322324 -11.158635 -15.638943  0.000000\n",
       "2  27.283216  26.884630  1.322324 -11.158635 -15.638943  0.514658\n",
       "3  27.283216  24.742443  1.322324 -11.158635 -15.638943  0.000000\n",
       "4  27.283216  26.884630  1.543975 -11.158635 -15.638943  1.322324"
      ]
     },
     "execution_count": 9,
     "metadata": {},
     "output_type": "execute_result"
    }
   ],
   "source": [
    "bbx = pd.DataFrame(columns = [\"xMax\",\"yMax\",\"zMax\",\"xMin\",\"yMin\",\"zMin\"])\n",
    "bbx['xMax'] = lines[['x', 'x1']].values.max(1)\n",
    "bbx['yMax'] = lines[['y', 'y1']].values.max(1)\n",
    "bbx['zMax'] = lines[['z', 'z1']].values.max(1)\n",
    "bbx['xMin'] = lines[['x', 'x1']].values.min(1)\n",
    "bbx['yMin'] = lines[['y', 'y1']].values.min(1)\n",
    "bbx['zMin'] = lines[['z', 'z1']].values.min(1)\n",
    "\n",
    "bbx.head()"
   ]
  },
  {
   "cell_type": "markdown",
   "metadata": {},
   "source": [
    "## Finding if lines bounding box versus meshes bounding box intersect"
   ]
  },
  {
   "cell_type": "markdown",
   "metadata": {},
   "source": [
    "### Estimation of total calculation in meshes versus lines bounding boxes (worst case scenario)"
   ]
  },
  {
   "cell_type": "code",
   "execution_count": 10,
   "metadata": {},
   "outputs": [
    {
     "name": "stdout",
     "output_type": "stream",
     "text": [
      "928 possible calculations\n"
     ]
    }
   ],
   "source": [
    "print('{} possible calculations'.format(len(bbx)* len(meshes_)))"
   ]
  },
  {
   "cell_type": "code",
   "execution_count": 11,
   "metadata": {},
   "outputs": [],
   "source": [
    "class BoundingBox():\n",
    "    #Bounding box defined by tuple of max & min points\n",
    "    def __init__(self, point):\n",
    "        self.XMax = point[0]\n",
    "        self.YMax = point[1]\n",
    "        self.ZMax = point[2]\n",
    "        self.XMin = point[3]\n",
    "        self.YMin = point[4]\n",
    "        self.ZMin = point[5]"
   ]
  },
  {
   "cell_type": "code",
   "execution_count": 12,
   "metadata": {},
   "outputs": [],
   "source": [
    "def checkmesh(lines, meshes):\n",
    "    #iterate over points\n",
    "    aa = BoundingBox(meshes)\n",
    "    for b in lines:\n",
    "        bb = BoundingBox(b)\n",
    "        if  bb_intersection_over_union(aa,bb):\n",
    "            return True\n",
    "    return False "
   ]
  },
  {
   "cell_type": "code",
   "execution_count": 13,
   "metadata": {},
   "outputs": [],
   "source": [
    "def bb_intersection_over_union(boxA, boxB):\n",
    "    interArea =  ((boxA.XMax > boxB.XMin) and (boxB.XMax > boxA.XMin ) and (boxA.YMax > boxB.YMin) and (boxA.YMin < boxB.YMax) and (boxA.ZMax > boxB.ZMin) and (boxA.ZMin < boxB.ZMax) )\n",
    "    \n",
    "    return interArea"
   ]
  },
  {
   "cell_type": "code",
   "execution_count": null,
   "metadata": {},
   "outputs": [],
   "source": []
  },
  {
   "cell_type": "code",
   "execution_count": 14,
   "metadata": {},
   "outputs": [
    {
     "name": "stdout",
     "output_type": "stream",
     "text": [
      "Count of meshes with intersections\n",
      "2\n"
     ]
    }
   ],
   "source": [
    "#Saving for possible limit in process like head(1000)\n",
    "bbx2 = bbx #.head(1000)\n",
    "\n",
    "resultA = meshes_.apply(lambda x: checkmesh( bbx2.values, x), axis=1)\n",
    "meshes_['hits'] = resultA\n",
    "print(\"Count of meshes with intersections\")\n",
    "print(len(meshes_[resultA]))"
   ]
  },
  {
   "cell_type": "markdown",
   "metadata": {},
   "source": [
    "## Finding mesh intersection"
   ]
  },
  {
   "cell_type": "markdown",
   "metadata": {},
   "source": [
    "Filtering only the mesh faces that belong to a mesh from previews test"
   ]
  },
  {
   "cell_type": "code",
   "execution_count": 15,
   "metadata": {},
   "outputs": [
    {
     "name": "stdout",
     "output_type": "stream",
     "text": [
      "456 faces to test\n"
     ]
    }
   ],
   "source": [
    "filter = mesh_faces[\"id\"].isin(meshes_[resultA]['id'])\n",
    "mesh_faces_filter = mesh_faces[filter]\n",
    "print('{} faces to test'.format(len(mesh_faces)))"
   ]
  },
  {
   "cell_type": "code",
   "execution_count": 16,
   "metadata": {},
   "outputs": [],
   "source": [
    "def checkFaces(Faces, line):\n",
    "    #Face v line iterator\n",
    "    for f in Faces:\n",
    "        if intersection(f, line):\n",
    "            return True\n",
    "    return False"
   ]
  },
  {
   "cell_type": "code",
   "execution_count": 17,
   "metadata": {},
   "outputs": [],
   "source": [
    "def intersection(aabb, ray):\n",
    "    #Bounding box v line intersection detector\n",
    "    normal = (ray[3]-ray[0], ray[4]-ray[1],ray[5]-ray[2])\n",
    "    #TODO : check divided by zero!\n",
    "    t1 = (aabb[3] - ray[0]) / normal[0];\n",
    "    t2 = (aabb[0] - ray[0]) / normal[0];\n",
    "    t3 = (aabb[4] - ray[1]) / normal[1];\n",
    "    t4 = (aabb[1] - ray[1]) / normal[1];\n",
    "    t5 = (aabb[5]- ray[2]) / normal[2];\n",
    "    t6 = (aabb[2] - ray[2]) / normal[2];\n",
    "\n",
    "    tmin = max(min(t1, t2), min(t3, t4), min(t5, t6));\n",
    "    tmax = min(max(t1, t2), max(t3, t4), max(t5, t6));\n",
    "\n",
    "        # if tmax < 0, ray (line) is intersecting AABB, but whole AABB is behing us\n",
    "    if (tmax < 0):\n",
    "        return False\n",
    "\n",
    "        # if tmin > tmax, ray doesn't intersect AABB\n",
    "    if (tmin > tmax):\n",
    "        return False\n",
    "    t= None\n",
    "    if (tmin < float(0)):\n",
    "        t = tmax\n",
    "    else:\n",
    "        t = tmin\n",
    "    if (t * t) > ((normal[0]**2 + normal[1]**2 + normal[2]**2)):\n",
    "        return False\n",
    "    return True"
   ]
  },
  {
   "cell_type": "markdown",
   "metadata": {},
   "source": [
    "Filter lines with positive intersections"
   ]
  },
  {
   "cell_type": "code",
   "execution_count": 18,
   "metadata": {},
   "outputs": [],
   "source": [
    "resultsB = bbx2.apply(lambda x: checkFaces( mesh_faces_filter.values, x), axis=1)"
   ]
  },
  {
   "cell_type": "code",
   "execution_count": 19,
   "metadata": {},
   "outputs": [
    {
     "name": "stdout",
     "output_type": "stream",
     "text": [
      "172 lines with clean sight from POV to targets\n",
      "292 lines with possible context intersection\n"
     ]
    }
   ],
   "source": [
    "lines['hits']= resultsB\n",
    "positive = len(lines[lines['hits'] == False])\n",
    "print('{} lines with clean sight from POV to targets'.format(positive))\n",
    "negative = len(lines[lines['hits'] == True])\n",
    "print('{} lines with possible context intersection'.format(negative))"
   ]
  },
  {
   "cell_type": "markdown",
   "metadata": {},
   "source": [
    "## Saving lines with no intersection"
   ]
  },
  {
   "cell_type": "code",
   "execution_count": 20,
   "metadata": {},
   "outputs": [],
   "source": [
    "lines[ lines['hits'] == False].to_csv('positive.csv')"
   ]
  },
  {
   "cell_type": "markdown",
   "metadata": {},
   "source": [
    "## Saving lines with possible intersection"
   ]
  },
  {
   "cell_type": "code",
   "execution_count": 21,
   "metadata": {},
   "outputs": [],
   "source": [
    "lines[ lines['hits'] == True].to_csv('negative.csv')"
   ]
  },
  {
   "cell_type": "code",
   "execution_count": null,
   "metadata": {},
   "outputs": [],
   "source": []
  }
 ],
 "metadata": {
  "kernelspec": {
   "display_name": "Python 3",
   "language": "python",
   "name": "python3"
  },
  "language_info": {
   "codemirror_mode": {
    "name": "ipython",
    "version": 3
   },
   "file_extension": ".py",
   "mimetype": "text/x-python",
   "name": "python",
   "nbconvert_exporter": "python",
   "pygments_lexer": "ipython3",
   "version": "3.7.3"
  }
 },
 "nbformat": 4,
 "nbformat_minor": 2
}
