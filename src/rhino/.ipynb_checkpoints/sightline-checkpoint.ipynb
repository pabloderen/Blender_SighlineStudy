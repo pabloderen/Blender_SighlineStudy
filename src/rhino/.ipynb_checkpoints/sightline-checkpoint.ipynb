{
 "cells": [
  {
   "cell_type": "markdown",
   "metadata": {},
   "source": [
    "# Collision analysis\n",
    "This document tries to explain the processes of \"outsourcing\" the calculations of sightline studies without sharing the 3D model information"
   ]
  },
  {
   "cell_type": "markdown",
   "metadata": {},
   "source": [
    "## Description of the process"
   ]
  },
  {
   "cell_type": "markdown",
   "metadata": {},
   "source": [
    "Importing libraries"
   ]
  },
  {
   "cell_type": "code",
   "execution_count": 69,
   "metadata": {},
   "outputs": [],
   "source": [
    "import pandas as pd\n",
    "import numpy as np\n",
    "import itertools\n",
    "import numba\n",
    "import os\n",
    "import time\n",
    "import multiprocessing as mp\n",
    "from multiprocessing import Pool\n",
    "from functools import partial\n",
    "start= time.time()"
   ]
  },
  {
   "cell_type": "markdown",
   "metadata": {},
   "source": [
    "Loger for python console "
   ]
  },
  {
   "cell_type": "code",
   "execution_count": 70,
   "metadata": {},
   "outputs": [],
   "source": [
    "def log(message):\n",
    "    print('{} , {}'.format(time.time(), message))"
   ]
  },
  {
   "cell_type": "markdown",
   "metadata": {},
   "source": [
    "## Reading points of view"
   ]
  },
  {
   "cell_type": "code",
   "execution_count": 71,
   "metadata": {},
   "outputs": [
    {
     "name": "stdout",
     "output_type": "stream",
     "text": [
      "3 Points of View\n"
     ]
    },
    {
     "data": {
      "text/html": [
       "<div>\n",
       "<style scoped>\n",
       "    .dataframe tbody tr th:only-of-type {\n",
       "        vertical-align: middle;\n",
       "    }\n",
       "\n",
       "    .dataframe tbody tr th {\n",
       "        vertical-align: top;\n",
       "    }\n",
       "\n",
       "    .dataframe thead th {\n",
       "        text-align: right;\n",
       "    }\n",
       "</style>\n",
       "<table border=\"1\" class=\"dataframe\">\n",
       "  <thead>\n",
       "    <tr style=\"text-align: right;\">\n",
       "      <th></th>\n",
       "      <th>x</th>\n",
       "      <th>y</th>\n",
       "      <th>z</th>\n",
       "    </tr>\n",
       "  </thead>\n",
       "  <tbody>\n",
       "    <tr>\n",
       "      <th>0</th>\n",
       "      <td>24.517645</td>\n",
       "      <td>-3.442886</td>\n",
       "      <td>1.180005</td>\n",
       "    </tr>\n",
       "    <tr>\n",
       "      <th>1</th>\n",
       "      <td>19.135707</td>\n",
       "      <td>-3.442886</td>\n",
       "      <td>1.180005</td>\n",
       "    </tr>\n",
       "    <tr>\n",
       "      <th>2</th>\n",
       "      <td>12.680436</td>\n",
       "      <td>-3.442886</td>\n",
       "      <td>1.180005</td>\n",
       "    </tr>\n",
       "  </tbody>\n",
       "</table>\n",
       "</div>"
      ],
      "text/plain": [
       "           x         y         z\n",
       "0  24.517645 -3.442886  1.180005\n",
       "1  19.135707 -3.442886  1.180005\n",
       "2  12.680436 -3.442886  1.180005"
      ]
     },
     "execution_count": 71,
     "metadata": {},
     "output_type": "execute_result"
    }
   ],
   "source": [
    "pov_ = pd.read_csv(r\".\\pov_.csv\",header=None )\n",
    "pov_.columns = [\"x\",\"y\",\"z\" ]\n",
    "print('{} Points of View'.format(len(pov_)))\n",
    "pov_.head(10)"
   ]
  },
  {
   "cell_type": "markdown",
   "metadata": {},
   "source": [
    "## Reading targets (points over meshes)"
   ]
  },
  {
   "cell_type": "code",
   "execution_count": 72,
   "metadata": {},
   "outputs": [
    {
     "name": "stdout",
     "output_type": "stream",
     "text": [
      "74170 targets or points of interest\n"
     ]
    },
    {
     "data": {
      "text/html": [
       "<div>\n",
       "<style scoped>\n",
       "    .dataframe tbody tr th:only-of-type {\n",
       "        vertical-align: middle;\n",
       "    }\n",
       "\n",
       "    .dataframe tbody tr th {\n",
       "        vertical-align: top;\n",
       "    }\n",
       "\n",
       "    .dataframe thead th {\n",
       "        text-align: right;\n",
       "    }\n",
       "</style>\n",
       "<table border=\"1\" class=\"dataframe\">\n",
       "  <thead>\n",
       "    <tr style=\"text-align: right;\">\n",
       "      <th></th>\n",
       "      <th>x1</th>\n",
       "      <th>y1</th>\n",
       "      <th>z1</th>\n",
       "    </tr>\n",
       "  </thead>\n",
       "  <tbody>\n",
       "    <tr>\n",
       "      <th>0</th>\n",
       "      <td>17.624287</td>\n",
       "      <td>21.152882</td>\n",
       "      <td>6.315064</td>\n",
       "    </tr>\n",
       "    <tr>\n",
       "      <th>1</th>\n",
       "      <td>17.525846</td>\n",
       "      <td>21.137451</td>\n",
       "      <td>6.216816</td>\n",
       "    </tr>\n",
       "    <tr>\n",
       "      <th>2</th>\n",
       "      <td>14.956533</td>\n",
       "      <td>22.996077</td>\n",
       "      <td>5.182619</td>\n",
       "    </tr>\n",
       "    <tr>\n",
       "      <th>3</th>\n",
       "      <td>15.490440</td>\n",
       "      <td>20.611511</td>\n",
       "      <td>5.504458</td>\n",
       "    </tr>\n",
       "    <tr>\n",
       "      <th>4</th>\n",
       "      <td>15.488480</td>\n",
       "      <td>20.557333</td>\n",
       "      <td>5.553114</td>\n",
       "    </tr>\n",
       "  </tbody>\n",
       "</table>\n",
       "</div>"
      ],
      "text/plain": [
       "          x1         y1        z1\n",
       "0  17.624287  21.152882  6.315064\n",
       "1  17.525846  21.137451  6.216816\n",
       "2  14.956533  22.996077  5.182619\n",
       "3  15.490440  20.611511  5.504458\n",
       "4  15.488480  20.557333  5.553114"
      ]
     },
     "execution_count": 72,
     "metadata": {},
     "output_type": "execute_result"
    }
   ],
   "source": [
    "target_ = pd.read_csv(r\".\\targets_.csv\",header=None )\n",
    "target_.columns = [\"x1\",\"y1\",\"z1\" ]\n",
    "print('{} targets or points of interest'.format(len(target_)))\n",
    "target_.head()"
   ]
  },
  {
   "cell_type": "markdown",
   "metadata": {},
   "source": [
    "## Reading meshes bounding box"
   ]
  },
  {
   "cell_type": "code",
   "execution_count": 73,
   "metadata": {},
   "outputs": [
    {
     "name": "stdout",
     "output_type": "stream",
     "text": [
      "8 meshes in set\n"
     ]
    },
    {
     "data": {
      "text/html": [
       "<div>\n",
       "<style scoped>\n",
       "    .dataframe tbody tr th:only-of-type {\n",
       "        vertical-align: middle;\n",
       "    }\n",
       "\n",
       "    .dataframe tbody tr th {\n",
       "        vertical-align: top;\n",
       "    }\n",
       "\n",
       "    .dataframe thead th {\n",
       "        text-align: right;\n",
       "    }\n",
       "</style>\n",
       "<table border=\"1\" class=\"dataframe\">\n",
       "  <thead>\n",
       "    <tr style=\"text-align: right;\">\n",
       "      <th></th>\n",
       "      <th>xMax</th>\n",
       "      <th>yMax</th>\n",
       "      <th>zMax</th>\n",
       "      <th>xMin</th>\n",
       "      <th>yMin</th>\n",
       "      <th>zMin</th>\n",
       "      <th>id</th>\n",
       "    </tr>\n",
       "    <tr>\n",
       "      <th>0</th>\n",
       "      <th></th>\n",
       "      <th></th>\n",
       "      <th></th>\n",
       "      <th></th>\n",
       "      <th></th>\n",
       "      <th></th>\n",
       "      <th></th>\n",
       "    </tr>\n",
       "  </thead>\n",
       "  <tbody>\n",
       "    <tr>\n",
       "      <th>0</th>\n",
       "      <td>7.3703</td>\n",
       "      <td>-4.2897</td>\n",
       "      <td>35.7826</td>\n",
       "      <td>-0.6453</td>\n",
       "      <td>-14.1881</td>\n",
       "      <td>31.7001</td>\n",
       "      <td>d83054f9-0310-465f-9629-87db361669aa</td>\n",
       "    </tr>\n",
       "    <tr>\n",
       "      <th>1</th>\n",
       "      <td>7.2636</td>\n",
       "      <td>9.3703</td>\n",
       "      <td>35.7826</td>\n",
       "      <td>-0.7520</td>\n",
       "      <td>-0.5281</td>\n",
       "      <td>31.7001</td>\n",
       "      <td>ee0e6f2d-e4e2-4438-9cbf-91ff76f71766</td>\n",
       "    </tr>\n",
       "    <tr>\n",
       "      <th>2</th>\n",
       "      <td>7.3703</td>\n",
       "      <td>-4.2897</td>\n",
       "      <td>25.5412</td>\n",
       "      <td>-0.6453</td>\n",
       "      <td>-14.1881</td>\n",
       "      <td>21.4586</td>\n",
       "      <td>0d036b89-9bea-4897-b507-d8646f5084aa</td>\n",
       "    </tr>\n",
       "    <tr>\n",
       "      <th>3</th>\n",
       "      <td>7.2636</td>\n",
       "      <td>9.3703</td>\n",
       "      <td>25.5412</td>\n",
       "      <td>-0.7520</td>\n",
       "      <td>-0.5281</td>\n",
       "      <td>21.4586</td>\n",
       "      <td>fbe6cdb8-2362-4f9e-9c02-75c948a23ca4</td>\n",
       "    </tr>\n",
       "    <tr>\n",
       "      <th>4</th>\n",
       "      <td>7.3703</td>\n",
       "      <td>-4.2897</td>\n",
       "      <td>15.1834</td>\n",
       "      <td>-0.6453</td>\n",
       "      <td>-14.1881</td>\n",
       "      <td>11.1008</td>\n",
       "      <td>52bdb36c-01fe-4b57-914a-e0aa9303b39f</td>\n",
       "    </tr>\n",
       "  </tbody>\n",
       "</table>\n",
       "</div>"
      ],
      "text/plain": [
       "     xMax    yMax     zMax    xMin     yMin     zMin  \\\n",
       "0                                                      \n",
       "0  7.3703 -4.2897  35.7826 -0.6453 -14.1881  31.7001   \n",
       "1  7.2636  9.3703  35.7826 -0.7520  -0.5281  31.7001   \n",
       "2  7.3703 -4.2897  25.5412 -0.6453 -14.1881  21.4586   \n",
       "3  7.2636  9.3703  25.5412 -0.7520  -0.5281  21.4586   \n",
       "4  7.3703 -4.2897  15.1834 -0.6453 -14.1881  11.1008   \n",
       "\n",
       "                                     id  \n",
       "0                                        \n",
       "0  d83054f9-0310-465f-9629-87db361669aa  \n",
       "1  ee0e6f2d-e4e2-4438-9cbf-91ff76f71766  \n",
       "2  0d036b89-9bea-4897-b507-d8646f5084aa  \n",
       "3  fbe6cdb8-2362-4f9e-9c02-75c948a23ca4  \n",
       "4  52bdb36c-01fe-4b57-914a-e0aa9303b39f  "
      ]
     },
     "execution_count": 73,
     "metadata": {},
     "output_type": "execute_result"
    }
   ],
   "source": [
    "meshes_ = pd.read_csv(r\".\\context_.csv\",header=None, index_col=0  )\n",
    "meshes_.columns = [\"xMax\",\"yMax\",\"zMax\",\"xMin\",\"yMin\",\"zMin\",\"id\" ]\n",
    "print('{} meshes in set'.format(len(meshes_)))\n",
    "meshes_.head()"
   ]
  },
  {
   "cell_type": "markdown",
   "metadata": {},
   "source": [
    "## Reading meshes faces"
   ]
  },
  {
   "cell_type": "code",
   "execution_count": 74,
   "metadata": {},
   "outputs": [
    {
     "name": "stdout",
     "output_type": "stream",
     "text": [
      "64 meshes faces in set\n"
     ]
    },
    {
     "data": {
      "text/html": [
       "<div>\n",
       "<style scoped>\n",
       "    .dataframe tbody tr th:only-of-type {\n",
       "        vertical-align: middle;\n",
       "    }\n",
       "\n",
       "    .dataframe tbody tr th {\n",
       "        vertical-align: top;\n",
       "    }\n",
       "\n",
       "    .dataframe thead th {\n",
       "        text-align: right;\n",
       "    }\n",
       "</style>\n",
       "<table border=\"1\" class=\"dataframe\">\n",
       "  <thead>\n",
       "    <tr style=\"text-align: right;\">\n",
       "      <th></th>\n",
       "      <th>xMax</th>\n",
       "      <th>yMax</th>\n",
       "      <th>zMax</th>\n",
       "      <th>xMin</th>\n",
       "      <th>yMin</th>\n",
       "      <th>zMin</th>\n",
       "      <th>id</th>\n",
       "    </tr>\n",
       "  </thead>\n",
       "  <tbody>\n",
       "    <tr>\n",
       "      <th>0</th>\n",
       "      <td>7.3703</td>\n",
       "      <td>-14.1881</td>\n",
       "      <td>35.7826</td>\n",
       "      <td>-0.6453</td>\n",
       "      <td>-14.1881</td>\n",
       "      <td>31.7001</td>\n",
       "      <td>d83054f9-0310-465f-9629-87db361669aa</td>\n",
       "    </tr>\n",
       "    <tr>\n",
       "      <th>1</th>\n",
       "      <td>7.3703</td>\n",
       "      <td>-4.2897</td>\n",
       "      <td>35.7826</td>\n",
       "      <td>7.3703</td>\n",
       "      <td>-14.1881</td>\n",
       "      <td>31.7001</td>\n",
       "      <td>d83054f9-0310-465f-9629-87db361669aa</td>\n",
       "    </tr>\n",
       "    <tr>\n",
       "      <th>2</th>\n",
       "      <td>7.3703</td>\n",
       "      <td>-4.2897</td>\n",
       "      <td>35.7826</td>\n",
       "      <td>-0.6453</td>\n",
       "      <td>-4.2897</td>\n",
       "      <td>31.7001</td>\n",
       "      <td>d83054f9-0310-465f-9629-87db361669aa</td>\n",
       "    </tr>\n",
       "    <tr>\n",
       "      <th>3</th>\n",
       "      <td>-0.6453</td>\n",
       "      <td>-4.2897</td>\n",
       "      <td>35.7826</td>\n",
       "      <td>-0.6453</td>\n",
       "      <td>-14.1881</td>\n",
       "      <td>31.7001</td>\n",
       "      <td>d83054f9-0310-465f-9629-87db361669aa</td>\n",
       "    </tr>\n",
       "    <tr>\n",
       "      <th>4</th>\n",
       "      <td>7.3703</td>\n",
       "      <td>-4.2897</td>\n",
       "      <td>31.7001</td>\n",
       "      <td>-0.6453</td>\n",
       "      <td>-14.1881</td>\n",
       "      <td>31.7001</td>\n",
       "      <td>d83054f9-0310-465f-9629-87db361669aa</td>\n",
       "    </tr>\n",
       "  </tbody>\n",
       "</table>\n",
       "</div>"
      ],
      "text/plain": [
       "     xMax     yMax     zMax    xMin     yMin     zMin  \\\n",
       "0  7.3703 -14.1881  35.7826 -0.6453 -14.1881  31.7001   \n",
       "1  7.3703  -4.2897  35.7826  7.3703 -14.1881  31.7001   \n",
       "2  7.3703  -4.2897  35.7826 -0.6453  -4.2897  31.7001   \n",
       "3 -0.6453  -4.2897  35.7826 -0.6453 -14.1881  31.7001   \n",
       "4  7.3703  -4.2897  31.7001 -0.6453 -14.1881  31.7001   \n",
       "\n",
       "                                     id  \n",
       "0  d83054f9-0310-465f-9629-87db361669aa  \n",
       "1  d83054f9-0310-465f-9629-87db361669aa  \n",
       "2  d83054f9-0310-465f-9629-87db361669aa  \n",
       "3  d83054f9-0310-465f-9629-87db361669aa  \n",
       "4  d83054f9-0310-465f-9629-87db361669aa  "
      ]
     },
     "execution_count": 74,
     "metadata": {},
     "output_type": "execute_result"
    }
   ],
   "source": [
    "mesh_faces = pd.read_csv(r\".\\mesh_faces.csv\",header=None  )\n",
    "mesh_faces.columns = [\"xMax\",\"yMax\",\"zMax\",\"xMin\",\"yMin\",\"zMin\", \"id\" ]\n",
    "print('{} meshes faces in set'.format(len(mesh_faces)))\n",
    "mesh_faces.head()"
   ]
  },
  {
   "cell_type": "markdown",
   "metadata": {},
   "source": [
    "## Creating all cross product of points vs targets to represent the lines of view"
   ]
  },
  {
   "cell_type": "code",
   "execution_count": 75,
   "metadata": {},
   "outputs": [],
   "source": [
    "lines = pov_\n",
    "lines = lines.assign(foo=1).merge(target_.assign(foo=1)).drop('foo', 1)\n",
    "lines = lines.drop_duplicates()\n",
    "lines = lines.reset_index()\n",
    "lines = lines.drop(['index'], axis=1)"
   ]
  },
  {
   "cell_type": "code",
   "execution_count": 76,
   "metadata": {},
   "outputs": [
    {
     "name": "stdout",
     "output_type": "stream",
     "text": [
      "38775 lines between POV and targets\n"
     ]
    },
    {
     "data": {
      "text/html": [
       "<div>\n",
       "<style scoped>\n",
       "    .dataframe tbody tr th:only-of-type {\n",
       "        vertical-align: middle;\n",
       "    }\n",
       "\n",
       "    .dataframe tbody tr th {\n",
       "        vertical-align: top;\n",
       "    }\n",
       "\n",
       "    .dataframe thead th {\n",
       "        text-align: right;\n",
       "    }\n",
       "</style>\n",
       "<table border=\"1\" class=\"dataframe\">\n",
       "  <thead>\n",
       "    <tr style=\"text-align: right;\">\n",
       "      <th></th>\n",
       "      <th>x</th>\n",
       "      <th>y</th>\n",
       "      <th>z</th>\n",
       "      <th>x1</th>\n",
       "      <th>y1</th>\n",
       "      <th>z1</th>\n",
       "    </tr>\n",
       "  </thead>\n",
       "  <tbody>\n",
       "    <tr>\n",
       "      <th>0</th>\n",
       "      <td>24.517645</td>\n",
       "      <td>-3.442886</td>\n",
       "      <td>1.180005</td>\n",
       "      <td>17.624287</td>\n",
       "      <td>21.152882</td>\n",
       "      <td>6.315064</td>\n",
       "    </tr>\n",
       "    <tr>\n",
       "      <th>1</th>\n",
       "      <td>24.517645</td>\n",
       "      <td>-3.442886</td>\n",
       "      <td>1.180005</td>\n",
       "      <td>17.525846</td>\n",
       "      <td>21.137451</td>\n",
       "      <td>6.216816</td>\n",
       "    </tr>\n",
       "    <tr>\n",
       "      <th>2</th>\n",
       "      <td>24.517645</td>\n",
       "      <td>-3.442886</td>\n",
       "      <td>1.180005</td>\n",
       "      <td>14.956533</td>\n",
       "      <td>22.996077</td>\n",
       "      <td>5.182619</td>\n",
       "    </tr>\n",
       "    <tr>\n",
       "      <th>3</th>\n",
       "      <td>24.517645</td>\n",
       "      <td>-3.442886</td>\n",
       "      <td>1.180005</td>\n",
       "      <td>15.490440</td>\n",
       "      <td>20.611511</td>\n",
       "      <td>5.504458</td>\n",
       "    </tr>\n",
       "    <tr>\n",
       "      <th>4</th>\n",
       "      <td>24.517645</td>\n",
       "      <td>-3.442886</td>\n",
       "      <td>1.180005</td>\n",
       "      <td>15.488480</td>\n",
       "      <td>20.557333</td>\n",
       "      <td>5.553114</td>\n",
       "    </tr>\n",
       "  </tbody>\n",
       "</table>\n",
       "</div>"
      ],
      "text/plain": [
       "           x         y         z         x1         y1        z1\n",
       "0  24.517645 -3.442886  1.180005  17.624287  21.152882  6.315064\n",
       "1  24.517645 -3.442886  1.180005  17.525846  21.137451  6.216816\n",
       "2  24.517645 -3.442886  1.180005  14.956533  22.996077  5.182619\n",
       "3  24.517645 -3.442886  1.180005  15.490440  20.611511  5.504458\n",
       "4  24.517645 -3.442886  1.180005  15.488480  20.557333  5.553114"
      ]
     },
     "execution_count": 76,
     "metadata": {},
     "output_type": "execute_result"
    }
   ],
   "source": [
    "print('{} lines between POV and targets'.format(len(lines)))\n",
    "lines.head()"
   ]
  },
  {
   "cell_type": "markdown",
   "metadata": {},
   "source": [
    "## Converting lines to bounding boxes"
   ]
  },
  {
   "cell_type": "code",
   "execution_count": 77,
   "metadata": {},
   "outputs": [
    {
     "data": {
      "text/html": [
       "<div>\n",
       "<style scoped>\n",
       "    .dataframe tbody tr th:only-of-type {\n",
       "        vertical-align: middle;\n",
       "    }\n",
       "\n",
       "    .dataframe tbody tr th {\n",
       "        vertical-align: top;\n",
       "    }\n",
       "\n",
       "    .dataframe thead th {\n",
       "        text-align: right;\n",
       "    }\n",
       "</style>\n",
       "<table border=\"1\" class=\"dataframe\">\n",
       "  <thead>\n",
       "    <tr style=\"text-align: right;\">\n",
       "      <th></th>\n",
       "      <th>xMax</th>\n",
       "      <th>yMax</th>\n",
       "      <th>zMax</th>\n",
       "      <th>xMin</th>\n",
       "      <th>yMin</th>\n",
       "      <th>zMin</th>\n",
       "    </tr>\n",
       "  </thead>\n",
       "  <tbody>\n",
       "    <tr>\n",
       "      <th>0</th>\n",
       "      <td>24.517645</td>\n",
       "      <td>21.152882</td>\n",
       "      <td>6.315064</td>\n",
       "      <td>17.624287</td>\n",
       "      <td>-3.442886</td>\n",
       "      <td>1.180005</td>\n",
       "    </tr>\n",
       "    <tr>\n",
       "      <th>1</th>\n",
       "      <td>24.517645</td>\n",
       "      <td>21.137451</td>\n",
       "      <td>6.216816</td>\n",
       "      <td>17.525846</td>\n",
       "      <td>-3.442886</td>\n",
       "      <td>1.180005</td>\n",
       "    </tr>\n",
       "    <tr>\n",
       "      <th>2</th>\n",
       "      <td>24.517645</td>\n",
       "      <td>22.996077</td>\n",
       "      <td>5.182619</td>\n",
       "      <td>14.956533</td>\n",
       "      <td>-3.442886</td>\n",
       "      <td>1.180005</td>\n",
       "    </tr>\n",
       "    <tr>\n",
       "      <th>3</th>\n",
       "      <td>24.517645</td>\n",
       "      <td>20.611511</td>\n",
       "      <td>5.504458</td>\n",
       "      <td>15.490440</td>\n",
       "      <td>-3.442886</td>\n",
       "      <td>1.180005</td>\n",
       "    </tr>\n",
       "    <tr>\n",
       "      <th>4</th>\n",
       "      <td>24.517645</td>\n",
       "      <td>20.557333</td>\n",
       "      <td>5.553114</td>\n",
       "      <td>15.488480</td>\n",
       "      <td>-3.442886</td>\n",
       "      <td>1.180005</td>\n",
       "    </tr>\n",
       "  </tbody>\n",
       "</table>\n",
       "</div>"
      ],
      "text/plain": [
       "        xMax       yMax      zMax       xMin      yMin      zMin\n",
       "0  24.517645  21.152882  6.315064  17.624287 -3.442886  1.180005\n",
       "1  24.517645  21.137451  6.216816  17.525846 -3.442886  1.180005\n",
       "2  24.517645  22.996077  5.182619  14.956533 -3.442886  1.180005\n",
       "3  24.517645  20.611511  5.504458  15.490440 -3.442886  1.180005\n",
       "4  24.517645  20.557333  5.553114  15.488480 -3.442886  1.180005"
      ]
     },
     "execution_count": 77,
     "metadata": {},
     "output_type": "execute_result"
    }
   ],
   "source": [
    "bbx = pd.DataFrame(columns = [\"xMax\",\"yMax\",\"zMax\",\"xMin\",\"yMin\",\"zMin\"])\n",
    "bbx['xMax'] = lines[['x', 'x1']].values.max(1)\n",
    "bbx['yMax'] = lines[['y', 'y1']].values.max(1)\n",
    "bbx['zMax'] = lines[['z', 'z1']].values.max(1)\n",
    "bbx['xMin'] = lines[['x', 'x1']].values.min(1)\n",
    "bbx['yMin'] = lines[['y', 'y1']].values.min(1)\n",
    "bbx['zMin'] = lines[['z', 'z1']].values.min(1)\n",
    "\n",
    "bbx.head()"
   ]
  },
  {
   "cell_type": "markdown",
   "metadata": {},
   "source": [
    "## Finding if lines bounding box versus meshes bounding box intersect"
   ]
  },
  {
   "cell_type": "markdown",
   "metadata": {},
   "source": [
    "### Estimation of total calculation in meshes versus lines bounding boxes (worst case scenario)"
   ]
  },
  {
   "cell_type": "code",
   "execution_count": 78,
   "metadata": {},
   "outputs": [
    {
     "name": "stdout",
     "output_type": "stream",
     "text": [
      "310200 possible calculations\n"
     ]
    }
   ],
   "source": [
    "print('{} possible calculations'.format(len(bbx)* len(meshes_)))"
   ]
  },
  {
   "cell_type": "code",
   "execution_count": 79,
   "metadata": {},
   "outputs": [],
   "source": [
    "class BoundingBox():\n",
    "    #Bounding box defined by tuple of max & min points\n",
    "    def __init__(self, point):\n",
    "        self.XMax = point[0]\n",
    "        self.YMax = point[1]\n",
    "        self.ZMax = point[2]\n",
    "        self.XMin = point[3]\n",
    "        self.YMin = point[4]\n",
    "        self.ZMin = point[5]"
   ]
  },
  {
   "cell_type": "code",
   "execution_count": 80,
   "metadata": {},
   "outputs": [],
   "source": [
    "def checkmesh(lines, meshes):\n",
    "    #iterate over points\n",
    "    aa = BoundingBox(meshes)\n",
    "    for b in lines:\n",
    "        bb = BoundingBox(b)\n",
    "        if  bb_intersection_over_union(aa,bb):\n",
    "            return True\n",
    "    return False "
   ]
  },
  {
   "cell_type": "code",
   "execution_count": 81,
   "metadata": {},
   "outputs": [],
   "source": [
    "def bb_intersection_over_union(boxA, boxB):\n",
    "    interArea =  ((boxA.XMax > boxB.XMin) \n",
    "                  and (boxB.XMax > boxA.XMin) \n",
    "                  and (boxA.YMax > boxB.YMin) \n",
    "                  and (boxA.YMin < boxB.YMax) \n",
    "                  and (boxA.ZMax > boxB.ZMin) \n",
    "                  and (boxA.ZMin < boxB.ZMax) )\n",
    "    \n",
    "    return interArea"
   ]
  },
  {
   "cell_type": "code",
   "execution_count": 82,
   "metadata": {},
   "outputs": [
    {
     "name": "stdout",
     "output_type": "stream",
     "text": [
      "Count of meshes with intersections\n",
      "8\n"
     ]
    }
   ],
   "source": [
    "#Saving for possible limit in process like head(1000)\n",
    "bbx2 = bbx #.head(1000)\n",
    "\n",
    "resultA = meshes_.apply(lambda x: checkmesh( bbx2.values, x), axis=1)\n",
    "meshes_['hits'] = resultA\n",
    "print(\"Count of meshes with intersections\")\n",
    "print(len(meshes_[resultA]))"
   ]
  },
  {
   "cell_type": "markdown",
   "metadata": {},
   "source": [
    "## Finding mesh intersection"
   ]
  },
  {
   "cell_type": "markdown",
   "metadata": {},
   "source": [
    "Filtering only the mesh faces that belong to a mesh from previews test"
   ]
  },
  {
   "cell_type": "code",
   "execution_count": 83,
   "metadata": {},
   "outputs": [
    {
     "name": "stdout",
     "output_type": "stream",
     "text": [
      "64 faces to test\n"
     ]
    }
   ],
   "source": [
    "filter = mesh_faces[\"id\"].isin(meshes_[resultA]['id'])\n",
    "mesh_faces_filter = mesh_faces[filter]\n",
    "print('{} faces to test'.format(len(mesh_faces)))"
   ]
  },
  {
   "cell_type": "code",
   "execution_count": 84,
   "metadata": {},
   "outputs": [],
   "source": [
    "\n",
    "def checkFaces(Faces, line):\n",
    "    #Face v line iterator\n",
    "    for f in Faces:\n",
    "        a = np.array(f[:-1],  dtype=np.float32)\n",
    "        b = np.array(line,  dtype=np.float32)\n",
    "        if intersection(a,b):\n",
    "            return True\n",
    "    return False"
   ]
  },
  {
   "cell_type": "code",
   "execution_count": 85,
   "metadata": {},
   "outputs": [],
   "source": [
    "@numba.vectorize(['float32(float32,float32,float32)'])\n",
    "def tt(a,b,c):\n",
    "    return (a - b) / c\n",
    "\n",
    "@numba.jit(forceobj=True, parallel=True)\n",
    "def intersection(aabb, ray):\n",
    "    \n",
    "    #Bounding box v line intersection detector\n",
    "    normal = [ray[3]-ray[0], ray[4]-ray[1],ray[5]-ray[2]]\n",
    "    #TODO : check divided by zero!\n",
    "    t1 = tt(aabb[3],ray[0], normal[0])\n",
    "    t2 = tt(aabb[0] , ray[0], normal[0])\n",
    "    t3 = tt(aabb[4] , ray[1], normal[1])\n",
    "    t4 = tt(aabb[1], ray[1], normal[1])\n",
    "    t5 = tt(aabb[5],ray[2], normal[2])\n",
    "    t6 = tt(aabb[2],ray[2], normal[2])\n",
    "\n",
    "    \n",
    "    tmax = min(max(t1, t2), max(t3, t4), max(t5, t6));\n",
    "\n",
    "        # if tmax < 0, ray (line) is intersecting AABB, but whole AABB is behing us\n",
    "    if (tmax < 0):\n",
    "        return False\n",
    "\n",
    "        # if tmin > tmax, ray doesn't intersect AABB\n",
    "    tmin = max(min(t1, t2), min(t3, t4), min(t5, t6));\n",
    "    if (tmin > tmax):\n",
    "        return False\n",
    "    t= None\n",
    "    if (tmin < float(0)):\n",
    "        t = tmax\n",
    "    else:\n",
    "        t = tmin\n",
    "    if (t * t) > ((normal[0]**2 + normal[1]**2 + normal[2]**2)):\n",
    "        return False\n",
    "    return True"
   ]
  },
  {
   "cell_type": "markdown",
   "metadata": {},
   "source": [
    "Filter lines with positive intersections"
   ]
  },
  {
   "cell_type": "code",
   "execution_count": null,
   "metadata": {},
   "outputs": [],
   "source": [
    "# pool = Pool(processes=10)\n",
    "# fun = partial(checkFaces,mesh_faces_filter.values)\n",
    "# pool.map(fun,lines.values)\n",
    "resultsB = [checkFaces( mesh_faces_filter.values,x) for x in lines.values]\n",
    "# resultsB = bbx2.apply(lambda x: checkFaces( mesh_faces_filter.values, x), axis=1)"
   ]
  },
  {
   "cell_type": "code",
   "execution_count": null,
   "metadata": {},
   "outputs": [],
   "source": [
    "lines['hits']= resultsB\n",
    "positive = len(lines[lines['hits'] == False])\n",
    "print('{} lines with clean sight from POV to targets'.format(positive))\n",
    "negative = len(lines[lines['hits'] == True])\n",
    "print('{} lines with possible context intersection'.format(negative))"
   ]
  },
  {
   "cell_type": "markdown",
   "metadata": {},
   "source": [
    "## Saving lines with no intersection"
   ]
  },
  {
   "cell_type": "code",
   "execution_count": null,
   "metadata": {},
   "outputs": [],
   "source": [
    "lines[ lines['hits'] == False].to_csv('positive.csv')"
   ]
  },
  {
   "cell_type": "markdown",
   "metadata": {},
   "source": [
    "## Saving lines with possible intersection"
   ]
  },
  {
   "cell_type": "code",
   "execution_count": null,
   "metadata": {},
   "outputs": [],
   "source": [
    "lines[ lines['hits'] == True].to_csv('negative.csv')"
   ]
  },
  {
   "cell_type": "code",
   "execution_count": null,
   "metadata": {},
   "outputs": [],
   "source": [
    "end = time.time()\n",
    "print('total time {}'.format(end-start))"
   ]
  },
  {
   "cell_type": "code",
   "execution_count": null,
   "metadata": {},
   "outputs": [],
   "source": []
  }
 ],
 "metadata": {
  "kernelspec": {
   "display_name": "Python 3",
   "language": "python",
   "name": "python3"
  },
  "language_info": {
   "codemirror_mode": {
    "name": "ipython",
    "version": 3
   },
   "file_extension": ".py",
   "mimetype": "text/x-python",
   "name": "python",
   "nbconvert_exporter": "python",
   "pygments_lexer": "ipython3",
   "version": "3.7.3"
  }
 },
 "nbformat": 4,
 "nbformat_minor": 2
}
